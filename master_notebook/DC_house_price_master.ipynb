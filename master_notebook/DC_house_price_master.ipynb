{
 "cells": [
  {
   "cell_type": "markdown",
   "metadata": {},
   "source": [
    "# Washington DC Housing Market Analysis"
   ]
  },
  {
   "cell_type": "markdown",
   "metadata": {},
   "source": [
    "## Project Goal"
   ]
  },
  {
   "cell_type": "code",
   "execution_count": null,
   "metadata": {},
   "outputs": [],
   "source": []
  },
  {
   "cell_type": "markdown",
   "metadata": {},
   "source": [
    "## Summary of Data\n",
    "\n",
    "\n",
    "This analysis uses DC housing market data from Refin for condos and macroeconomic data from Fred with the time periods between February 2012 and October 2019. Housing data includes data for prices (median sale price, percentage of homes sold above list price, percentage of homes that had price drop, etc.), inventory (number of homes on market, new listings, months of supply, etc.), and sales (number of homes sold, median days on market, etc.). For economic data, refer to [readme](https://github.com/iuniorhsiung/mod4_project_DC_housing_price/blob/master/data/readme.md). Most of our economic data are regional data in DC or DC-VA-MD-WV regions. "
   ]
  },
  {
   "cell_type": "markdown",
   "metadata": {},
   "source": [
    "## Methodology\n",
    "\n",
    "In order to price the condos in Washington DC, we perform time-series linear regression with DC housing statistics and regional macroeconomic variables. For the theory behind it, please refer to [this](https://www.reed.edu/economics/parker/312/tschapters/S13_Ch_2.pdf).\n",
    "\n",
    "\n",
    "### Data Analysis\n",
    "\n",
    "After collecting our data, based on the model assumptions, we need to comfirm if both independent and dependent variables are stationary. In addition, we check if the autocorrelation for these variables is zero. There are four parts are performed: (1) time series plots, (2) acf/pacf plots, (3) [stationary test](https://en.wikipedia.org/wiki/KPSS_test) and (4) [autocorrelation test](https://en.wikipedia.org/wiki/Durbin%E2%80%93Watson_statistic). For the positive variables, we will also use log-transformation for them and run (3) and (4) to expend the list of our possible features in the final model. \n",
    "\n",
    "Note that our data time frame ranges from Feburary 2010 to October 2019. It includes 117 monthly data. \n",
    "\n",
    "\n",
    "### Feature Selection \n",
    "\n",
    "Based on the data analysis section, we pre-selected a pool of our features (independent variables). In this section, we perform (1) [Forward-Backward stepwise regression](https://en.wikipedia.org/wiki/Stepwise_regression) and (2) [KBest selection](https://www.kaggle.com/jepsds/feature-selection-using-selectkbest)\n",
    "\n",
    "###  Model Fit\n",
    "\n",
    "We perform a time-series regression based on the selected features in Feature Selection section. Note that we will check if the sign for each feature comes with business rationale. For our dataset, we divide it into train dataset/In-Time Sample and test dataset/Out-of-Time Sample (OOT Sample). For the time-series modeling practice, we use the first 100 monthly data as In-Time sample and last 17 monthly data as OOT sample. \n",
    "\n",
    "\n",
    "### Cross Validation\n",
    "\n",
    "We will work on cross validaiton on OOT sample since there is a time effect in our housing dataset. \n",
    "\n",
    "\n",
    "### Model Performance\n",
    "\n",
    "We evaluate our model performance based on the following two metrics:\n",
    "\n",
    "- Mean Absolute Error (MAE): Based on our project goal, MAE estimates the dollar impact for the model residual. For example, it is 700 dollars in error if MAE is 700. Please refer to [MAE].(https://en.wikipedia.org/wiki/Mean_absolute_error)\n",
    "\n",
    "- Mean Absolute Percentage Error (MAPE): Similar to MAE, MAPE esitmates the percentage impact in housing price. For example, the model shows about 2.5% error if MAPE is .0249. Please refer to [MAPE].(https://en.wikipedia.org/wiki/Mean_absolute_percentage_error)\n",
    "\n",
    "### Residual Analysis\n",
    "\n",
    "Based on the assumptions for [time series linear regression](https://www.reed.edu/economics/parker/312/tschapters/S13_Ch_2.pdf) in Methodology section, we perform the following analyses:\n",
    "\n",
    "- Stationary test: To ensure the constant mean exists for model residual.\n",
    "\n",
    "- Homoscedastic test: To ensure the constant variance for model residual. We perform both [Breusch–Pagan test](https://en.wikipedia.org/wiki/Breusch%E2%80%93Pagan_test) and [Goldfeld–Quandt test](https://en.wikipedia.org/wiki/Goldfeld%E2%80%93Quandt_test). \n",
    "\n",
    "- Autocorrelation test: To ensure there is no strong autocorrelation in moder residual (or autocorrelation is zero). \n",
    "\n",
    "In addition, we study the distribution of the model residuals with the following analyses:\n",
    "\n",
    "- Normality test: We will perform both normality test based on [D’Agostino and Pearson’s test](https://docs.scipy.org/doc/scipy/reference/generated/scipy.stats.normaltest.html) and [KPSS test](https://en.wikipedia.org/wiki/KPSS_test).\n",
    "\n",
    "- Q-Q plot\n",
    "\n",
    "\n",
    "\n",
    "### Rationale for the current approach:\n",
    "\n"
   ]
  },
  {
   "cell_type": "markdown",
   "metadata": {},
   "source": [
    "- use the right housing statistics and macro variables: (1) time series, (2) acf/pacf plots, (3) stationary test and (4) autocorrelation test\n",
    "- Modeling: time series linear regression: feature selection in R-squared, AIC, etc.\n",
    "- Cross validation: Out-of-time performance\n",
    "- Residual analysis: (1) normality test, (2) Q-Q plot, (3) MAE, (4) MAPE, (5) Homoscedastic test, (6) stationary test and (7) autocorrelation test "
   ]
  },
  {
   "cell_type": "markdown",
   "metadata": {},
   "source": [
    "### Data Import\n",
    "\n",
    "Here, we import all code and libraries based on the \"Data_cleaning_house_price.ipynb\" and \"ConstructingDataFrame.ipynb\". This takes care of all data imports and data format for the final modeling use including transformed dataset."
   ]
  },
  {
   "cell_type": "code",
   "execution_count": null,
   "metadata": {},
   "outputs": [],
   "source": [
    "# %load ../python_folder/python_files/importlib"
   ]
  },
  {
   "cell_type": "markdown",
   "metadata": {},
   "source": [
    "### Data visualization\n",
    "\n",
    "In Data Analysis section, time series plots and ACF/PACF plots are used to check the data visually. Please refer to [DC_house_price_EDA_JC.ipynb](https://github.com/iuniorhsiung/mod4_project_DC_housing_price/tree/master/master_notebook)"
   ]
  },
  {
   "cell_type": "markdown",
   "metadata": {},
   "source": [
    "### Hypothesis Test\n",
    "\n",
    "We performed the following hypothesis tests on our housing/economic dataframe:\n",
    "\n",
    "- KPSS test for stationarity \n",
    "- Durbin–Watson for autocorrelation"
   ]
  },
  {
   "cell_type": "code",
   "execution_count": null,
   "metadata": {},
   "outputs": [],
   "source": [
    "# %load ../python_folder/python_files/test_matrix_kpss_dw"
   ]
  },
  {
   "cell_type": "code",
   "execution_count": null,
   "metadata": {},
   "outputs": [],
   "source": []
  },
  {
   "cell_type": "code",
   "execution_count": null,
   "metadata": {},
   "outputs": [],
   "source": [
    "# %load ../python_folder/python_files/Test_p_value"
   ]
  },
  {
   "cell_type": "code",
   "execution_count": null,
   "metadata": {},
   "outputs": [],
   "source": []
  },
  {
   "cell_type": "code",
   "execution_count": null,
   "metadata": {},
   "outputs": [],
   "source": []
  }
 ],
 "metadata": {
  "kernelspec": {
   "display_name": "Python 3",
   "language": "python",
   "name": "python3"
  },
  "language_info": {
   "codemirror_mode": {
    "name": "ipython",
    "version": 3
   },
   "file_extension": ".py",
   "mimetype": "text/x-python",
   "name": "python",
   "nbconvert_exporter": "python",
   "pygments_lexer": "ipython3",
   "version": "3.6.9"
  }
 },
 "nbformat": 4,
 "nbformat_minor": 2
}
