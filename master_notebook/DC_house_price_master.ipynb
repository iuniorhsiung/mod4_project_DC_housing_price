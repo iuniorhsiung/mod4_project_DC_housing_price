{
 "cells": [
  {
   "cell_type": "markdown",
   "metadata": {},
   "source": [
    "# Washington DC Housing Market Analysis"
   ]
  },
  {
   "cell_type": "markdown",
   "metadata": {},
   "source": [
    "## Project Goal"
   ]
  },
  {
   "cell_type": "code",
   "execution_count": null,
   "metadata": {},
   "outputs": [],
   "source": []
  },
  {
   "cell_type": "markdown",
   "metadata": {},
   "source": [
    "## Summary of Data\n",
    "\n",
    "\n",
    "This analysis uses DC housing market data from Refin for condos and macroeconomic data from Fred with the time periods between February 2012 and October 2019. Housing data includes data for prices (median sale price, percentage of homes sold above list price, percentage of homes that had price drop, etc.), inventory (number of homes on market, new listings, months of supply, etc.), and sales (number of homes sold, median days on market, etc.). For economic data, refer to [readme](https://github.com/iuniorhsiung/mod4_project_DC_housing_price/blob/master/data/readme.md). Most of our economic data are regional data in DC or DC-VA-MD-WV regions. "
   ]
  },
  {
   "cell_type": "markdown",
   "metadata": {},
   "source": [
    "## Methodology\n",
    "\n",
    "In order to price the condos in Washington DC, we perform time-series linear regression with DC housing statistics and regional macroeconomic variables. For the theory behind it, please refer to [this](https://www.reed.edu/economics/parker/312/tschapters/S13_Ch_2.pdf).\n",
    "\n",
    "\n",
    "### Data Analysis\n",
    "\n",
    "After collecting our data, based on the model assumptions, we need to comfirm if both independent and dependent variables are stationary. In addition, we check if the autocorrelation for these variables is zero. There are four parts are performed: (1) time series plots, (2) acf/pacf plots, (3) [stationary test](https://en.wikipedia.org/wiki/KPSS_test) and (4) [autocorrelation test](https://en.wikipedia.org/wiki/Durbin%E2%80%93Watson_statistic). For the positive variables, we will also use log-transformation for them and run (3) and (4). \n",
    "\n",
    "\n",
    "### Feature Selection \n",
    "\n",
    "Based on the data analysis section, we pre-selected a pool of our features (independent variables). In this section, we perform (1) [Forward-Backward stepwise regression](https://en.wikipedia.org/wiki/Stepwise_regression) and (2) [KBest selection](https://www.kaggle.com/jepsds/feature-selection-using-selectkbest)\n",
    "\n",
    "###  Model Fit\n",
    "\n",
    "\n",
    "\n",
    "\n",
    "### Testing Methodology\n",
    "\n",
    "Below are the different tests we ran on our selected Washington DC housing market variables:\n",
    "\n",
    "- Two-sample T test with unequal variance to test the means between two regions\n",
    "\n",
    "https://en.wikipedia.org/wiki/Student%27s_t-test\n",
    "\n",
    "- Kolmogorov Smirnov test to test the distributions between two regions\n",
    "\n",
    "https://en.wikipedia.org/wiki/Kolmogorov%E2%80%93Smirnov_test\n",
    "\n",
    "- Wilcoxon Rank test to test the difference for two population mean ranks from two regions\n",
    "\n",
    "https://en.wikipedia.org/wiki/Wilcoxon_signed-rank_test\n",
    "\n",
    "- Mann-Whitney rank test to test if a random sample from one region is different than another one \n",
    "\n",
    "https://en.wikipedia.org/wiki/Mann%E2%80%93Whitney_U_test\n",
    "\n",
    "- Kendall Tau test to test if two samples are independent\n",
    "\n",
    "https://en.wikipedia.org/wiki/Kendall_rank_correlation_coefficient\n",
    "\n",
    "### Assumptions: \n",
    "\n",
    "Based on time-series dataset we have, there is a relationship over time for each feature. Therefore, pratical speaking, we relax our testing assumption that each sample (region) is indepedent within each sample. In addition, we will confirm if two samples are independent of each other based on Kendall Tau test.\n",
    "\n",
    "\n",
    "### Feature Selection:\n",
    "\n",
    "\n",
    "\n",
    "### Rationale for the current approach:\n",
    "\n"
   ]
  },
  {
   "cell_type": "markdown",
   "metadata": {},
   "source": [
    "- use the right housing statistics and macro variables: (1) time series, (2) acf/pacf plots, (3) stationary test and (4) autocorrelation test\n",
    "- Modeling: time series linear regression: feature selection in R-squared, AIC, etc.\n",
    "- Cross validation: Out-of-time performance\n",
    "- Residual analysis: (1) normality test, (2) Q-Q plot, (3) MAE, (4) MAPE, (5) Homoscedastic test, (6) stationary test and (7) autocorrelation test "
   ]
  },
  {
   "cell_type": "code",
   "execution_count": null,
   "metadata": {},
   "outputs": [],
   "source": []
  },
  {
   "cell_type": "code",
   "execution_count": null,
   "metadata": {},
   "outputs": [],
   "source": []
  },
  {
   "cell_type": "code",
   "execution_count": null,
   "metadata": {},
   "outputs": [],
   "source": []
  }
 ],
 "metadata": {
  "kernelspec": {
   "display_name": "Python 3",
   "language": "python",
   "name": "python3"
  },
  "language_info": {
   "codemirror_mode": {
    "name": "ipython",
    "version": 3
   },
   "file_extension": ".py",
   "mimetype": "text/x-python",
   "name": "python",
   "nbconvert_exporter": "python",
   "pygments_lexer": "ipython3",
   "version": "3.6.9"
  }
 },
 "nbformat": 4,
 "nbformat_minor": 2
}
