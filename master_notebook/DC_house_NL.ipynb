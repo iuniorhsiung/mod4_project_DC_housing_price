{
 "cells": [
  {
   "cell_type": "markdown",
   "metadata": {},
   "source": [
    "## DC House Price"
   ]
  },
  {
   "cell_type": "markdown",
   "metadata": {},
   "source": [
    "#### Project goal: \n",
    "\n",
    "- Predict the median house price in DC\n",
    "- use the right housing statistics and macro variables: (1) time series, (2) acf/pacf plots, (3) stationary test and (4) autocorrelation test\n",
    "- Modeling: time series linear regression: feature selection in R-squared, AIC, etc.\n",
    "- Cross validation: Out-of-time performance\n",
    "- Residual analysis: (1) normality test, (2) Q-Q plot, (3) MAE, (4) MAPE, (5) Homoscedastic test, (6) stationary test and (7) autocorrelation test "
   ]
  },
  {
   "cell_type": "code",
   "execution_count": 89,
   "metadata": {},
   "outputs": [],
   "source": [
    "#Import libraries\n",
    "import pandas as pd\n",
    "import numpy as np\n",
    "import matplotlib.pyplot as plt\n",
    "import seaborn as sns\n",
    "from sklearn import linear_model\n",
    "import statsmodels.api as sm\n",
    "from statsmodels.compat import lzip\n",
    "\n",
    "%matplotlib inline"
   ]
  },
  {
   "cell_type": "code",
   "execution_count": 93,
   "metadata": {},
   "outputs": [],
   "source": [
    "# feature selection: KBest using f_regression, chi2, mutual_info_regression\n",
    "from sklearn.feature_selection import SelectKBest, f_classif, f_regression, chi2, mutual_info_regression\n",
    "\n",
    "# tests for stationary \n",
    "from statsmodels.tsa.stattools import adfuller\n",
    "from statsmodels.tsa.stattools import kpss\n",
    "\n",
    "import statsmodels.api as sm\n",
    "\n",
    "#tests for autocorrelation\n",
    "from statsmodels.stats.diagnostic import acorr_breusch_godfrey\n",
    "from statsmodels.stats.stattools import durbin_watson\n",
    "from statsmodels.stats.diagnostic import acorr_ljungbox\n",
    "\n",
    "#test of Heteroscedasticity\n",
    "from statsmodels.stats.diagnostic import het_breuschpagan\n",
    "from statsmodels.stats.diagnostic import het_goldfeldquandt\n",
    "\n",
    "#test for cointegration\n",
    "from statsmodels.tsa.vector_ar.vecm import coint_johansen "
   ]
  },
  {
   "cell_type": "code",
   "execution_count": 3,
   "metadata": {},
   "outputs": [],
   "source": [
    "df = pd.read_csv(\"../data/full_data.csv\")"
   ]
  },
  {
   "cell_type": "code",
   "execution_count": 4,
   "metadata": {},
   "outputs": [],
   "source": [
    "df_test = df.drop(columns=['Time', 'DATE', 'Median Sale Price MoM', 'New Listings MoM', 'Homes Sold MoM', 'Inventory MoM', 'Days on Market MoM', 'Average Sale To List MoM', 'DC_PER'])\n",
    "col_name = df_test.columns"
   ]
  },
  {
   "cell_type": "code",
   "execution_count": 5,
   "metadata": {},
   "outputs": [],
   "source": [
    "# create a log transformed variable\n",
    "for i in range(len(col_name)):\n",
    "    df[col_name[i] + '_log'] =  np.log(df[col_name[i]])"
   ]
  },
  {
   "cell_type": "code",
   "execution_count": 6,
   "metadata": {},
   "outputs": [
    {
     "data": {
      "text/plain": [
       "Index(['Median Sale Price', 'Median Sale Price MoM', 'Homes Sold',\n",
       "       'Homes Sold MoM', 'New Listings', 'New Listings MoM', 'Inventory',\n",
       "       'Inventory MoM', 'Days on Market', 'Days on Market MoM',\n",
       "       'Average Sale To List%', 'Average Sale To List MoM', 'WDXRSA', 'US_UR',\n",
       "       'DMV_UR', 'DC_UR', 'FED_EM', 'FIN_EM', 'HOS_EM', 'DC_PER', 'DMV_PER',\n",
       "       'DMV_PER_1', 'Median Sale Price_log', 'Homes Sold_log',\n",
       "       'New Listings_log', 'Inventory_log', 'Days on Market_log',\n",
       "       'Average Sale To List%_log', 'WDXRSA_log', 'US_UR_log', 'DMV_UR_log',\n",
       "       'DC_UR_log', 'FED_EM_log', 'FIN_EM_log', 'HOS_EM_log', 'DMV_PER_log',\n",
       "       'DMV_PER_1_log'],\n",
       "      dtype='object')"
      ]
     },
     "execution_count": 6,
     "metadata": {},
     "output_type": "execute_result"
    }
   ],
   "source": [
    "df_test = df.drop(columns=['Time', 'DATE'])\n",
    "col_name = df_test.columns\n",
    "col_name"
   ]
  },
  {
   "cell_type": "code",
   "execution_count": 7,
   "metadata": {},
   "outputs": [
    {
     "data": {
      "text/plain": [
       "Time                         0\n",
       "Median Sale Price            0\n",
       "Median Sale Price MoM        0\n",
       "Homes Sold                   0\n",
       "Homes Sold MoM               0\n",
       "New Listings                 0\n",
       "New Listings MoM             0\n",
       "Inventory                    0\n",
       "Inventory MoM                0\n",
       "Days on Market               0\n",
       "Days on Market MoM           0\n",
       "Average Sale To List%        0\n",
       "Average Sale To List MoM     0\n",
       "DATE                         0\n",
       "WDXRSA                       0\n",
       "US_UR                        0\n",
       "DMV_UR                       0\n",
       "DC_UR                        0\n",
       "FED_EM                       0\n",
       "FIN_EM                       0\n",
       "HOS_EM                       0\n",
       "DC_PER                       0\n",
       "DMV_PER                      0\n",
       "DMV_PER_1                    0\n",
       "Median Sale Price_log        0\n",
       "Homes Sold_log               0\n",
       "New Listings_log             0\n",
       "Inventory_log                0\n",
       "Days on Market_log           0\n",
       "Average Sale To List%_log    0\n",
       "WDXRSA_log                   0\n",
       "US_UR_log                    0\n",
       "DMV_UR_log                   0\n",
       "DC_UR_log                    0\n",
       "FED_EM_log                   0\n",
       "FIN_EM_log                   0\n",
       "HOS_EM_log                   0\n",
       "DMV_PER_log                  0\n",
       "DMV_PER_1_log                0\n",
       "dtype: int64"
      ]
     },
     "execution_count": 7,
     "metadata": {},
     "output_type": "execute_result"
    }
   ],
   "source": [
    "df.isnull().sum()"
   ]
  },
  {
   "cell_type": "code",
   "execution_count": 8,
   "metadata": {},
   "outputs": [
    {
     "data": {
      "text/plain": [
       "Time                         0\n",
       "Median Sale Price            0\n",
       "Median Sale Price MoM        0\n",
       "Homes Sold                   0\n",
       "Homes Sold MoM               0\n",
       "New Listings                 0\n",
       "New Listings MoM             0\n",
       "Inventory                    0\n",
       "Inventory MoM                0\n",
       "Days on Market               0\n",
       "Days on Market MoM           0\n",
       "Average Sale To List%        0\n",
       "Average Sale To List MoM     0\n",
       "DATE                         0\n",
       "WDXRSA                       0\n",
       "US_UR                        0\n",
       "DMV_UR                       0\n",
       "DC_UR                        0\n",
       "FED_EM                       0\n",
       "FIN_EM                       0\n",
       "HOS_EM                       0\n",
       "DC_PER                       0\n",
       "DMV_PER                      0\n",
       "DMV_PER_1                    0\n",
       "Median Sale Price_log        0\n",
       "Homes Sold_log               0\n",
       "New Listings_log             0\n",
       "Inventory_log                0\n",
       "Days on Market_log           0\n",
       "Average Sale To List%_log    0\n",
       "WDXRSA_log                   0\n",
       "US_UR_log                    0\n",
       "DMV_UR_log                   0\n",
       "DC_UR_log                    0\n",
       "FED_EM_log                   0\n",
       "FIN_EM_log                   0\n",
       "HOS_EM_log                   0\n",
       "DMV_PER_log                  0\n",
       "DMV_PER_1_log                0\n",
       "dtype: int64"
      ]
     },
     "execution_count": 8,
     "metadata": {},
     "output_type": "execute_result"
    }
   ],
   "source": [
    "df.isna().sum()"
   ]
  },
  {
   "cell_type": "code",
   "execution_count": 9,
   "metadata": {},
   "outputs": [
    {
     "data": {
      "text/plain": [
       "(-3.2930742362239633,\n",
       " 0.06739888528454135,\n",
       " 2,\n",
       " 114,\n",
       " {'1%': -4.0404611509884285,\n",
       "  '5%': -3.449728197718056,\n",
       "  '10%': -3.1500478236218434},\n",
       " -142.95436871641422)"
      ]
     },
     "execution_count": 9,
     "metadata": {},
     "output_type": "execute_result"
    }
   ],
   "source": [
    "adfuller(df[col_name[36]], regression = 'ct')"
   ]
  },
  {
   "cell_type": "markdown",
   "metadata": {},
   "source": [
    "#### Only focus on KPSS and DW test"
   ]
  },
  {
   "cell_type": "code",
   "execution_count": 10,
   "metadata": {},
   "outputs": [],
   "source": [
    "# %load ../python_folder/python_files/test_matrix_kpss_dw"
   ]
  },
  {
   "cell_type": "code",
   "execution_count": 11,
   "metadata": {},
   "outputs": [
    {
     "name": "stderr",
     "output_type": "stream",
     "text": [
      "/Users/cslsh/opt/anaconda3/envs/learn-env/lib/python3.6/site-packages/statsmodels/tsa/stattools.py:1685: FutureWarning: The behavior of using lags=None will change in the next release. Currently lags=None is the same as lags='legacy', and so a sample-size lag length is used. After the next release, the default will change to be the same as lags='auto' which uses an automatic lag length selection method. To silence this warning, either use 'auto' or 'legacy'\n",
      "  warn(msg, FutureWarning)\n",
      "/Users/cslsh/opt/anaconda3/envs/learn-env/lib/python3.6/site-packages/statsmodels/tsa/stattools.py:1710: InterpolationWarning: p-value is greater than the indicated p-value\n",
      "  warn(\"p-value is greater than the indicated p-value\", InterpolationWarning)\n",
      "/Users/cslsh/opt/anaconda3/envs/learn-env/lib/python3.6/site-packages/statsmodels/tsa/stattools.py:1710: InterpolationWarning: p-value is greater than the indicated p-value\n",
      "  warn(\"p-value is greater than the indicated p-value\", InterpolationWarning)\n",
      "/Users/cslsh/opt/anaconda3/envs/learn-env/lib/python3.6/site-packages/statsmodels/tsa/stattools.py:1710: InterpolationWarning: p-value is greater than the indicated p-value\n",
      "  warn(\"p-value is greater than the indicated p-value\", InterpolationWarning)\n",
      "/Users/cslsh/opt/anaconda3/envs/learn-env/lib/python3.6/site-packages/statsmodels/tsa/stattools.py:1710: InterpolationWarning: p-value is greater than the indicated p-value\n",
      "  warn(\"p-value is greater than the indicated p-value\", InterpolationWarning)\n",
      "/Users/cslsh/opt/anaconda3/envs/learn-env/lib/python3.6/site-packages/statsmodels/tsa/stattools.py:1710: InterpolationWarning: p-value is greater than the indicated p-value\n",
      "  warn(\"p-value is greater than the indicated p-value\", InterpolationWarning)\n",
      "/Users/cslsh/opt/anaconda3/envs/learn-env/lib/python3.6/site-packages/statsmodels/tsa/stattools.py:1710: InterpolationWarning: p-value is greater than the indicated p-value\n",
      "  warn(\"p-value is greater than the indicated p-value\", InterpolationWarning)\n",
      "/Users/cslsh/opt/anaconda3/envs/learn-env/lib/python3.6/site-packages/statsmodels/tsa/stattools.py:1710: InterpolationWarning: p-value is greater than the indicated p-value\n",
      "  warn(\"p-value is greater than the indicated p-value\", InterpolationWarning)\n",
      "/Users/cslsh/opt/anaconda3/envs/learn-env/lib/python3.6/site-packages/statsmodels/tsa/stattools.py:1710: InterpolationWarning: p-value is greater than the indicated p-value\n",
      "  warn(\"p-value is greater than the indicated p-value\", InterpolationWarning)\n",
      "/Users/cslsh/opt/anaconda3/envs/learn-env/lib/python3.6/site-packages/statsmodels/tsa/stattools.py:1710: InterpolationWarning: p-value is greater than the indicated p-value\n",
      "  warn(\"p-value is greater than the indicated p-value\", InterpolationWarning)\n",
      "/Users/cslsh/opt/anaconda3/envs/learn-env/lib/python3.6/site-packages/statsmodels/tsa/stattools.py:1710: InterpolationWarning: p-value is greater than the indicated p-value\n",
      "  warn(\"p-value is greater than the indicated p-value\", InterpolationWarning)\n",
      "/Users/cslsh/opt/anaconda3/envs/learn-env/lib/python3.6/site-packages/statsmodels/tsa/stattools.py:1710: InterpolationWarning: p-value is greater than the indicated p-value\n",
      "  warn(\"p-value is greater than the indicated p-value\", InterpolationWarning)\n",
      "/Users/cslsh/opt/anaconda3/envs/learn-env/lib/python3.6/site-packages/statsmodels/tsa/stattools.py:1710: InterpolationWarning: p-value is greater than the indicated p-value\n",
      "  warn(\"p-value is greater than the indicated p-value\", InterpolationWarning)\n",
      "/Users/cslsh/opt/anaconda3/envs/learn-env/lib/python3.6/site-packages/statsmodels/tsa/stattools.py:1710: InterpolationWarning: p-value is greater than the indicated p-value\n",
      "  warn(\"p-value is greater than the indicated p-value\", InterpolationWarning)\n",
      "/Users/cslsh/opt/anaconda3/envs/learn-env/lib/python3.6/site-packages/statsmodels/tsa/stattools.py:1710: InterpolationWarning: p-value is greater than the indicated p-value\n",
      "  warn(\"p-value is greater than the indicated p-value\", InterpolationWarning)\n",
      "/Users/cslsh/opt/anaconda3/envs/learn-env/lib/python3.6/site-packages/statsmodels/tsa/stattools.py:1710: InterpolationWarning: p-value is greater than the indicated p-value\n",
      "  warn(\"p-value is greater than the indicated p-value\", InterpolationWarning)\n",
      "/Users/cslsh/opt/anaconda3/envs/learn-env/lib/python3.6/site-packages/statsmodels/tsa/stattools.py:1710: InterpolationWarning: p-value is greater than the indicated p-value\n",
      "  warn(\"p-value is greater than the indicated p-value\", InterpolationWarning)\n",
      "/Users/cslsh/opt/anaconda3/envs/learn-env/lib/python3.6/site-packages/statsmodels/tsa/stattools.py:1710: InterpolationWarning: p-value is greater than the indicated p-value\n",
      "  warn(\"p-value is greater than the indicated p-value\", InterpolationWarning)\n",
      "/Users/cslsh/opt/anaconda3/envs/learn-env/lib/python3.6/site-packages/statsmodels/tsa/stattools.py:1710: InterpolationWarning: p-value is greater than the indicated p-value\n",
      "  warn(\"p-value is greater than the indicated p-value\", InterpolationWarning)\n",
      "/Users/cslsh/opt/anaconda3/envs/learn-env/lib/python3.6/site-packages/statsmodels/tsa/stattools.py:1710: InterpolationWarning: p-value is greater than the indicated p-value\n",
      "  warn(\"p-value is greater than the indicated p-value\", InterpolationWarning)\n",
      "/Users/cslsh/opt/anaconda3/envs/learn-env/lib/python3.6/site-packages/statsmodels/tsa/stattools.py:1710: InterpolationWarning: p-value is greater than the indicated p-value\n",
      "  warn(\"p-value is greater than the indicated p-value\", InterpolationWarning)\n",
      "/Users/cslsh/opt/anaconda3/envs/learn-env/lib/python3.6/site-packages/statsmodels/tsa/stattools.py:1710: InterpolationWarning: p-value is greater than the indicated p-value\n",
      "  warn(\"p-value is greater than the indicated p-value\", InterpolationWarning)\n",
      "/Users/cslsh/opt/anaconda3/envs/learn-env/lib/python3.6/site-packages/statsmodels/tsa/stattools.py:1710: InterpolationWarning: p-value is greater than the indicated p-value\n",
      "  warn(\"p-value is greater than the indicated p-value\", InterpolationWarning)\n",
      "/Users/cslsh/opt/anaconda3/envs/learn-env/lib/python3.6/site-packages/statsmodels/tsa/stattools.py:1710: InterpolationWarning: p-value is greater than the indicated p-value\n",
      "  warn(\"p-value is greater than the indicated p-value\", InterpolationWarning)\n",
      "/Users/cslsh/opt/anaconda3/envs/learn-env/lib/python3.6/site-packages/statsmodels/tsa/stattools.py:1710: InterpolationWarning: p-value is greater than the indicated p-value\n",
      "  warn(\"p-value is greater than the indicated p-value\", InterpolationWarning)\n",
      "/Users/cslsh/opt/anaconda3/envs/learn-env/lib/python3.6/site-packages/statsmodels/tsa/stattools.py:1710: InterpolationWarning: p-value is greater than the indicated p-value\n",
      "  warn(\"p-value is greater than the indicated p-value\", InterpolationWarning)\n",
      "/Users/cslsh/opt/anaconda3/envs/learn-env/lib/python3.6/site-packages/statsmodels/tsa/stattools.py:1710: InterpolationWarning: p-value is greater than the indicated p-value\n",
      "  warn(\"p-value is greater than the indicated p-value\", InterpolationWarning)\n",
      "/Users/cslsh/opt/anaconda3/envs/learn-env/lib/python3.6/site-packages/statsmodels/tsa/stattools.py:1710: InterpolationWarning: p-value is greater than the indicated p-value\n",
      "  warn(\"p-value is greater than the indicated p-value\", InterpolationWarning)\n"
     ]
    }
   ],
   "source": [
    "# p-value for adfuller\n",
    "p_val_adf = []\n",
    "\n",
    "# p-value for kpss\n",
    "p_val_kpss = []\n",
    "\n",
    "# p-value for acorr_breusch_godfrey \n",
    "p_val_bg = []\n",
    "\n",
    "# p-value for Ljung–Box Q test\n",
    "p_val_lj = []\n",
    "\n",
    "# statistic for durbin_watson\n",
    "stat_dw = []\n",
    "\n",
    "for i in range(len(col_name)):\n",
    "    temp = adfuller(df[col_name[i]], regression = 'ct')\n",
    "    p_val_adf.append(temp[1])\n",
    "    \n",
    "    temp = kpss(df[col_name[i]], regression = 'ct')\n",
    "    p_val_kpss.append(temp[1])\n",
    "    \n",
    "    temp = acorr_ljungbox(df[col_name[i]], lags = 10)\n",
    "    p_val_lj.append(temp[1][0])\n",
    "    \n",
    "    temp = durbin_watson(df[col_name[i]])\n",
    "    stat_dw.append(temp)\n",
    "\n",
    "test_matrix = pd.DataFrame(list(zip(col_name, p_val_adf, p_val_kpss, p_val_lj, stat_dw)), \n",
    "               columns =['Features','p_adftest', 'p_kpsstest','p_ljtest', 'stat_dw'])\n",
    "    "
   ]
  },
  {
   "cell_type": "code",
   "execution_count": 12,
   "metadata": {},
   "outputs": [
    {
     "data": {
      "text/html": [
       "<div>\n",
       "<style scoped>\n",
       "    .dataframe tbody tr th:only-of-type {\n",
       "        vertical-align: middle;\n",
       "    }\n",
       "\n",
       "    .dataframe tbody tr th {\n",
       "        vertical-align: top;\n",
       "    }\n",
       "\n",
       "    .dataframe thead th {\n",
       "        text-align: right;\n",
       "    }\n",
       "</style>\n",
       "<table border=\"1\" class=\"dataframe\">\n",
       "  <thead>\n",
       "    <tr style=\"text-align: right;\">\n",
       "      <th></th>\n",
       "      <th>Features</th>\n",
       "      <th>p_adftest</th>\n",
       "      <th>p_kpsstest</th>\n",
       "      <th>p_ljtest</th>\n",
       "      <th>stat_dw</th>\n",
       "    </tr>\n",
       "  </thead>\n",
       "  <tbody>\n",
       "    <tr>\n",
       "      <td>0</td>\n",
       "      <td>Median Sale Price</td>\n",
       "      <td>1.852913e-03</td>\n",
       "      <td>0.048158</td>\n",
       "      <td>5.860334e-23</td>\n",
       "      <td>1.460217e-03</td>\n",
       "    </tr>\n",
       "    <tr>\n",
       "      <td>1</td>\n",
       "      <td>Median Sale Price MoM</td>\n",
       "      <td>4.774490e-07</td>\n",
       "      <td>0.100000</td>\n",
       "      <td>1.510148e-02</td>\n",
       "      <td>2.351027e+00</td>\n",
       "    </tr>\n",
       "    <tr>\n",
       "      <td>2</td>\n",
       "      <td>Homes Sold</td>\n",
       "      <td>9.371101e-01</td>\n",
       "      <td>0.100000</td>\n",
       "      <td>5.742783e-16</td>\n",
       "      <td>2.136036e-02</td>\n",
       "    </tr>\n",
       "    <tr>\n",
       "      <td>3</td>\n",
       "      <td>Homes Sold MoM</td>\n",
       "      <td>7.690392e-02</td>\n",
       "      <td>0.100000</td>\n",
       "      <td>7.062849e-01</td>\n",
       "      <td>2.040086e+00</td>\n",
       "    </tr>\n",
       "    <tr>\n",
       "      <td>4</td>\n",
       "      <td>New Listings</td>\n",
       "      <td>9.164763e-01</td>\n",
       "      <td>0.100000</td>\n",
       "      <td>3.455617e-13</td>\n",
       "      <td>4.232778e-02</td>\n",
       "    </tr>\n",
       "    <tr>\n",
       "      <td>5</td>\n",
       "      <td>New Listings MoM</td>\n",
       "      <td>4.836519e-01</td>\n",
       "      <td>0.100000</td>\n",
       "      <td>9.330193e-01</td>\n",
       "      <td>1.955755e+00</td>\n",
       "    </tr>\n",
       "    <tr>\n",
       "      <td>6</td>\n",
       "      <td>Inventory</td>\n",
       "      <td>1.227744e-02</td>\n",
       "      <td>0.085247</td>\n",
       "      <td>3.028106e-25</td>\n",
       "      <td>5.105290e-03</td>\n",
       "    </tr>\n",
       "    <tr>\n",
       "      <td>7</td>\n",
       "      <td>Inventory MoM</td>\n",
       "      <td>9.186213e-01</td>\n",
       "      <td>0.100000</td>\n",
       "      <td>3.047694e-07</td>\n",
       "      <td>1.057099e+00</td>\n",
       "    </tr>\n",
       "    <tr>\n",
       "      <td>8</td>\n",
       "      <td>Days on Market</td>\n",
       "      <td>4.751578e-02</td>\n",
       "      <td>0.100000</td>\n",
       "      <td>1.495454e-19</td>\n",
       "      <td>4.371311e-02</td>\n",
       "    </tr>\n",
       "    <tr>\n",
       "      <td>9</td>\n",
       "      <td>Days on Market MoM</td>\n",
       "      <td>2.668512e-01</td>\n",
       "      <td>0.100000</td>\n",
       "      <td>4.162127e-03</td>\n",
       "      <td>1.471667e+00</td>\n",
       "    </tr>\n",
       "    <tr>\n",
       "      <td>10</td>\n",
       "      <td>Average Sale To List%</td>\n",
       "      <td>1.568147e-01</td>\n",
       "      <td>0.100000</td>\n",
       "      <td>2.118262e-23</td>\n",
       "      <td>7.632329e-06</td>\n",
       "    </tr>\n",
       "    <tr>\n",
       "      <td>11</td>\n",
       "      <td>Average Sale To List MoM</td>\n",
       "      <td>4.022508e-01</td>\n",
       "      <td>0.100000</td>\n",
       "      <td>2.900495e-01</td>\n",
       "      <td>2.166667e+00</td>\n",
       "    </tr>\n",
       "    <tr>\n",
       "      <td>12</td>\n",
       "      <td>WDXRSA</td>\n",
       "      <td>7.572612e-02</td>\n",
       "      <td>0.100000</td>\n",
       "      <td>9.762568e-27</td>\n",
       "      <td>2.033278e-05</td>\n",
       "    </tr>\n",
       "    <tr>\n",
       "      <td>13</td>\n",
       "      <td>US_UR</td>\n",
       "      <td>9.626251e-01</td>\n",
       "      <td>0.011665</td>\n",
       "      <td>1.008014e-26</td>\n",
       "      <td>5.252038e-04</td>\n",
       "    </tr>\n",
       "    <tr>\n",
       "      <td>14</td>\n",
       "      <td>DMV_UR</td>\n",
       "      <td>4.344899e-01</td>\n",
       "      <td>0.100000</td>\n",
       "      <td>4.981303e-25</td>\n",
       "      <td>3.155966e-03</td>\n",
       "    </tr>\n",
       "    <tr>\n",
       "      <td>15</td>\n",
       "      <td>DC_UR</td>\n",
       "      <td>9.580224e-01</td>\n",
       "      <td>0.100000</td>\n",
       "      <td>4.648410e-27</td>\n",
       "      <td>1.490056e-04</td>\n",
       "    </tr>\n",
       "    <tr>\n",
       "      <td>16</td>\n",
       "      <td>FED_EM</td>\n",
       "      <td>5.295123e-01</td>\n",
       "      <td>0.049551</td>\n",
       "      <td>8.427168e-27</td>\n",
       "      <td>1.422234e-05</td>\n",
       "    </tr>\n",
       "    <tr>\n",
       "      <td>17</td>\n",
       "      <td>FIN_EM</td>\n",
       "      <td>6.092237e-01</td>\n",
       "      <td>0.100000</td>\n",
       "      <td>1.246586e-26</td>\n",
       "      <td>1.396433e-05</td>\n",
       "    </tr>\n",
       "    <tr>\n",
       "      <td>18</td>\n",
       "      <td>HOS_EM</td>\n",
       "      <td>5.432972e-02</td>\n",
       "      <td>0.100000</td>\n",
       "      <td>2.871241e-26</td>\n",
       "      <td>2.402751e-05</td>\n",
       "    </tr>\n",
       "    <tr>\n",
       "      <td>19</td>\n",
       "      <td>DC_PER</td>\n",
       "      <td>2.577835e-14</td>\n",
       "      <td>0.100000</td>\n",
       "      <td>1.108387e-02</td>\n",
       "      <td>7.501440e-01</td>\n",
       "    </tr>\n",
       "    <tr>\n",
       "      <td>20</td>\n",
       "      <td>DMV_PER</td>\n",
       "      <td>2.989333e-01</td>\n",
       "      <td>0.060568</td>\n",
       "      <td>3.060401e-07</td>\n",
       "      <td>1.210131e-01</td>\n",
       "    </tr>\n",
       "    <tr>\n",
       "      <td>21</td>\n",
       "      <td>DMV_PER_1</td>\n",
       "      <td>1.165398e-01</td>\n",
       "      <td>0.100000</td>\n",
       "      <td>1.827803e-14</td>\n",
       "      <td>2.507267e-02</td>\n",
       "    </tr>\n",
       "    <tr>\n",
       "      <td>22</td>\n",
       "      <td>Median Sale Price_log</td>\n",
       "      <td>4.465751e-03</td>\n",
       "      <td>0.043399</td>\n",
       "      <td>2.871947e-23</td>\n",
       "      <td>9.737132e-06</td>\n",
       "    </tr>\n",
       "    <tr>\n",
       "      <td>23</td>\n",
       "      <td>Homes Sold_log</td>\n",
       "      <td>9.520416e-01</td>\n",
       "      <td>0.100000</td>\n",
       "      <td>6.952684e-15</td>\n",
       "      <td>5.685062e-04</td>\n",
       "    </tr>\n",
       "    <tr>\n",
       "      <td>24</td>\n",
       "      <td>New Listings_log</td>\n",
       "      <td>8.721051e-01</td>\n",
       "      <td>0.100000</td>\n",
       "      <td>3.282856e-12</td>\n",
       "      <td>1.215979e-03</td>\n",
       "    </tr>\n",
       "    <tr>\n",
       "      <td>25</td>\n",
       "      <td>Inventory_log</td>\n",
       "      <td>1.900978e-02</td>\n",
       "      <td>0.100000</td>\n",
       "      <td>8.098675e-25</td>\n",
       "      <td>1.050095e-04</td>\n",
       "    </tr>\n",
       "    <tr>\n",
       "      <td>26</td>\n",
       "      <td>Days on Market_log</td>\n",
       "      <td>2.845513e-02</td>\n",
       "      <td>0.100000</td>\n",
       "      <td>2.460989e-20</td>\n",
       "      <td>3.941756e-03</td>\n",
       "    </tr>\n",
       "    <tr>\n",
       "      <td>27</td>\n",
       "      <td>Average Sale To List%_log</td>\n",
       "      <td>1.564795e-01</td>\n",
       "      <td>0.100000</td>\n",
       "      <td>2.083384e-23</td>\n",
       "      <td>3.627027e-07</td>\n",
       "    </tr>\n",
       "    <tr>\n",
       "      <td>28</td>\n",
       "      <td>WDXRSA_log</td>\n",
       "      <td>1.343885e-01</td>\n",
       "      <td>0.100000</td>\n",
       "      <td>9.163338e-27</td>\n",
       "      <td>8.041367e-07</td>\n",
       "    </tr>\n",
       "    <tr>\n",
       "      <td>29</td>\n",
       "      <td>US_UR_log</td>\n",
       "      <td>4.726850e-01</td>\n",
       "      <td>0.100000</td>\n",
       "      <td>9.714145e-27</td>\n",
       "      <td>1.992511e-04</td>\n",
       "    </tr>\n",
       "    <tr>\n",
       "      <td>30</td>\n",
       "      <td>DMV_UR_log</td>\n",
       "      <td>1.253541e-01</td>\n",
       "      <td>0.048324</td>\n",
       "      <td>7.545728e-25</td>\n",
       "      <td>1.650142e-03</td>\n",
       "    </tr>\n",
       "    <tr>\n",
       "      <td>31</td>\n",
       "      <td>DC_UR_log</td>\n",
       "      <td>8.703534e-02</td>\n",
       "      <td>0.100000</td>\n",
       "      <td>4.966953e-27</td>\n",
       "      <td>3.605873e-05</td>\n",
       "    </tr>\n",
       "    <tr>\n",
       "      <td>32</td>\n",
       "      <td>FED_EM_log</td>\n",
       "      <td>5.408870e-01</td>\n",
       "      <td>0.051375</td>\n",
       "      <td>8.279678e-27</td>\n",
       "      <td>3.964202e-07</td>\n",
       "    </tr>\n",
       "    <tr>\n",
       "      <td>33</td>\n",
       "      <td>FIN_EM_log</td>\n",
       "      <td>5.987239e-01</td>\n",
       "      <td>0.100000</td>\n",
       "      <td>1.227953e-26</td>\n",
       "      <td>6.425600e-07</td>\n",
       "    </tr>\n",
       "    <tr>\n",
       "      <td>34</td>\n",
       "      <td>HOS_EM_log</td>\n",
       "      <td>1.822510e-02</td>\n",
       "      <td>0.038998</td>\n",
       "      <td>2.906918e-26</td>\n",
       "      <td>7.636597e-07</td>\n",
       "    </tr>\n",
       "    <tr>\n",
       "      <td>35</td>\n",
       "      <td>DMV_PER_log</td>\n",
       "      <td>3.957622e-01</td>\n",
       "      <td>0.074732</td>\n",
       "      <td>4.654009e-10</td>\n",
       "      <td>2.167363e-03</td>\n",
       "    </tr>\n",
       "    <tr>\n",
       "      <td>36</td>\n",
       "      <td>DMV_PER_1_log</td>\n",
       "      <td>6.739889e-02</td>\n",
       "      <td>0.100000</td>\n",
       "      <td>2.924164e-14</td>\n",
       "      <td>6.080075e-04</td>\n",
       "    </tr>\n",
       "  </tbody>\n",
       "</table>\n",
       "</div>"
      ],
      "text/plain": [
       "                     Features     p_adftest  p_kpsstest      p_ljtest  \\\n",
       "0           Median Sale Price  1.852913e-03    0.048158  5.860334e-23   \n",
       "1       Median Sale Price MoM  4.774490e-07    0.100000  1.510148e-02   \n",
       "2                  Homes Sold  9.371101e-01    0.100000  5.742783e-16   \n",
       "3              Homes Sold MoM  7.690392e-02    0.100000  7.062849e-01   \n",
       "4                New Listings  9.164763e-01    0.100000  3.455617e-13   \n",
       "5            New Listings MoM  4.836519e-01    0.100000  9.330193e-01   \n",
       "6                   Inventory  1.227744e-02    0.085247  3.028106e-25   \n",
       "7               Inventory MoM  9.186213e-01    0.100000  3.047694e-07   \n",
       "8              Days on Market  4.751578e-02    0.100000  1.495454e-19   \n",
       "9          Days on Market MoM  2.668512e-01    0.100000  4.162127e-03   \n",
       "10      Average Sale To List%  1.568147e-01    0.100000  2.118262e-23   \n",
       "11   Average Sale To List MoM  4.022508e-01    0.100000  2.900495e-01   \n",
       "12                     WDXRSA  7.572612e-02    0.100000  9.762568e-27   \n",
       "13                      US_UR  9.626251e-01    0.011665  1.008014e-26   \n",
       "14                     DMV_UR  4.344899e-01    0.100000  4.981303e-25   \n",
       "15                      DC_UR  9.580224e-01    0.100000  4.648410e-27   \n",
       "16                     FED_EM  5.295123e-01    0.049551  8.427168e-27   \n",
       "17                     FIN_EM  6.092237e-01    0.100000  1.246586e-26   \n",
       "18                     HOS_EM  5.432972e-02    0.100000  2.871241e-26   \n",
       "19                     DC_PER  2.577835e-14    0.100000  1.108387e-02   \n",
       "20                    DMV_PER  2.989333e-01    0.060568  3.060401e-07   \n",
       "21                  DMV_PER_1  1.165398e-01    0.100000  1.827803e-14   \n",
       "22      Median Sale Price_log  4.465751e-03    0.043399  2.871947e-23   \n",
       "23             Homes Sold_log  9.520416e-01    0.100000  6.952684e-15   \n",
       "24           New Listings_log  8.721051e-01    0.100000  3.282856e-12   \n",
       "25              Inventory_log  1.900978e-02    0.100000  8.098675e-25   \n",
       "26         Days on Market_log  2.845513e-02    0.100000  2.460989e-20   \n",
       "27  Average Sale To List%_log  1.564795e-01    0.100000  2.083384e-23   \n",
       "28                 WDXRSA_log  1.343885e-01    0.100000  9.163338e-27   \n",
       "29                  US_UR_log  4.726850e-01    0.100000  9.714145e-27   \n",
       "30                 DMV_UR_log  1.253541e-01    0.048324  7.545728e-25   \n",
       "31                  DC_UR_log  8.703534e-02    0.100000  4.966953e-27   \n",
       "32                 FED_EM_log  5.408870e-01    0.051375  8.279678e-27   \n",
       "33                 FIN_EM_log  5.987239e-01    0.100000  1.227953e-26   \n",
       "34                 HOS_EM_log  1.822510e-02    0.038998  2.906918e-26   \n",
       "35                DMV_PER_log  3.957622e-01    0.074732  4.654009e-10   \n",
       "36              DMV_PER_1_log  6.739889e-02    0.100000  2.924164e-14   \n",
       "\n",
       "         stat_dw  \n",
       "0   1.460217e-03  \n",
       "1   2.351027e+00  \n",
       "2   2.136036e-02  \n",
       "3   2.040086e+00  \n",
       "4   4.232778e-02  \n",
       "5   1.955755e+00  \n",
       "6   5.105290e-03  \n",
       "7   1.057099e+00  \n",
       "8   4.371311e-02  \n",
       "9   1.471667e+00  \n",
       "10  7.632329e-06  \n",
       "11  2.166667e+00  \n",
       "12  2.033278e-05  \n",
       "13  5.252038e-04  \n",
       "14  3.155966e-03  \n",
       "15  1.490056e-04  \n",
       "16  1.422234e-05  \n",
       "17  1.396433e-05  \n",
       "18  2.402751e-05  \n",
       "19  7.501440e-01  \n",
       "20  1.210131e-01  \n",
       "21  2.507267e-02  \n",
       "22  9.737132e-06  \n",
       "23  5.685062e-04  \n",
       "24  1.215979e-03  \n",
       "25  1.050095e-04  \n",
       "26  3.941756e-03  \n",
       "27  3.627027e-07  \n",
       "28  8.041367e-07  \n",
       "29  1.992511e-04  \n",
       "30  1.650142e-03  \n",
       "31  3.605873e-05  \n",
       "32  3.964202e-07  \n",
       "33  6.425600e-07  \n",
       "34  7.636597e-07  \n",
       "35  2.167363e-03  \n",
       "36  6.080075e-04  "
      ]
     },
     "execution_count": 12,
     "metadata": {},
     "output_type": "execute_result"
    }
   ],
   "source": [
    "test_matrix"
   ]
  },
  {
   "cell_type": "code",
   "execution_count": 13,
   "metadata": {},
   "outputs": [],
   "source": [
    "# %load ../python_folder/python_files/Test_p_value"
   ]
  },
  {
   "cell_type": "code",
   "execution_count": 14,
   "metadata": {},
   "outputs": [],
   "source": [
    "# Create a function to detect the hypothesis testing results. 1: reject null, 0: fail to reject null\n",
    "def test_p_value(p = .05, name = 'ttest'):\n",
    "    name_list = []\n",
    "    for i in range(len(test_matrix)):\n",
    "        if test_matrix[\"p_\" + name][i] < p:\n",
    "            name_list.append(1) \n",
    "        else:\n",
    "            name_list.append(0)   \n",
    "    test_matrix['index_' + name] = name_list"
   ]
  },
  {
   "cell_type": "code",
   "execution_count": 15,
   "metadata": {},
   "outputs": [
    {
     "data": {
      "text/html": [
       "<div>\n",
       "<style scoped>\n",
       "    .dataframe tbody tr th:only-of-type {\n",
       "        vertical-align: middle;\n",
       "    }\n",
       "\n",
       "    .dataframe tbody tr th {\n",
       "        vertical-align: top;\n",
       "    }\n",
       "\n",
       "    .dataframe thead th {\n",
       "        text-align: right;\n",
       "    }\n",
       "</style>\n",
       "<table border=\"1\" class=\"dataframe\">\n",
       "  <thead>\n",
       "    <tr style=\"text-align: right;\">\n",
       "      <th></th>\n",
       "      <th>Features</th>\n",
       "      <th>p_adftest</th>\n",
       "      <th>p_kpsstest</th>\n",
       "      <th>p_ljtest</th>\n",
       "      <th>stat_dw</th>\n",
       "      <th>index_adftest</th>\n",
       "      <th>index_kpsstest</th>\n",
       "      <th>index_ljtest</th>\n",
       "    </tr>\n",
       "  </thead>\n",
       "  <tbody>\n",
       "    <tr>\n",
       "      <td>0</td>\n",
       "      <td>Median Sale Price</td>\n",
       "      <td>1.852913e-03</td>\n",
       "      <td>0.048158</td>\n",
       "      <td>5.860334e-23</td>\n",
       "      <td>1.460217e-03</td>\n",
       "      <td>1</td>\n",
       "      <td>1</td>\n",
       "      <td>1</td>\n",
       "    </tr>\n",
       "    <tr>\n",
       "      <td>1</td>\n",
       "      <td>Median Sale Price MoM</td>\n",
       "      <td>4.774490e-07</td>\n",
       "      <td>0.100000</td>\n",
       "      <td>1.510148e-02</td>\n",
       "      <td>2.351027e+00</td>\n",
       "      <td>1</td>\n",
       "      <td>0</td>\n",
       "      <td>1</td>\n",
       "    </tr>\n",
       "    <tr>\n",
       "      <td>2</td>\n",
       "      <td>Homes Sold</td>\n",
       "      <td>9.371101e-01</td>\n",
       "      <td>0.100000</td>\n",
       "      <td>5.742783e-16</td>\n",
       "      <td>2.136036e-02</td>\n",
       "      <td>0</td>\n",
       "      <td>0</td>\n",
       "      <td>1</td>\n",
       "    </tr>\n",
       "    <tr>\n",
       "      <td>3</td>\n",
       "      <td>Homes Sold MoM</td>\n",
       "      <td>7.690392e-02</td>\n",
       "      <td>0.100000</td>\n",
       "      <td>7.062849e-01</td>\n",
       "      <td>2.040086e+00</td>\n",
       "      <td>0</td>\n",
       "      <td>0</td>\n",
       "      <td>0</td>\n",
       "    </tr>\n",
       "    <tr>\n",
       "      <td>4</td>\n",
       "      <td>New Listings</td>\n",
       "      <td>9.164763e-01</td>\n",
       "      <td>0.100000</td>\n",
       "      <td>3.455617e-13</td>\n",
       "      <td>4.232778e-02</td>\n",
       "      <td>0</td>\n",
       "      <td>0</td>\n",
       "      <td>1</td>\n",
       "    </tr>\n",
       "    <tr>\n",
       "      <td>5</td>\n",
       "      <td>New Listings MoM</td>\n",
       "      <td>4.836519e-01</td>\n",
       "      <td>0.100000</td>\n",
       "      <td>9.330193e-01</td>\n",
       "      <td>1.955755e+00</td>\n",
       "      <td>0</td>\n",
       "      <td>0</td>\n",
       "      <td>0</td>\n",
       "    </tr>\n",
       "    <tr>\n",
       "      <td>6</td>\n",
       "      <td>Inventory</td>\n",
       "      <td>1.227744e-02</td>\n",
       "      <td>0.085247</td>\n",
       "      <td>3.028106e-25</td>\n",
       "      <td>5.105290e-03</td>\n",
       "      <td>1</td>\n",
       "      <td>0</td>\n",
       "      <td>1</td>\n",
       "    </tr>\n",
       "    <tr>\n",
       "      <td>7</td>\n",
       "      <td>Inventory MoM</td>\n",
       "      <td>9.186213e-01</td>\n",
       "      <td>0.100000</td>\n",
       "      <td>3.047694e-07</td>\n",
       "      <td>1.057099e+00</td>\n",
       "      <td>0</td>\n",
       "      <td>0</td>\n",
       "      <td>1</td>\n",
       "    </tr>\n",
       "    <tr>\n",
       "      <td>8</td>\n",
       "      <td>Days on Market</td>\n",
       "      <td>4.751578e-02</td>\n",
       "      <td>0.100000</td>\n",
       "      <td>1.495454e-19</td>\n",
       "      <td>4.371311e-02</td>\n",
       "      <td>1</td>\n",
       "      <td>0</td>\n",
       "      <td>1</td>\n",
       "    </tr>\n",
       "    <tr>\n",
       "      <td>9</td>\n",
       "      <td>Days on Market MoM</td>\n",
       "      <td>2.668512e-01</td>\n",
       "      <td>0.100000</td>\n",
       "      <td>4.162127e-03</td>\n",
       "      <td>1.471667e+00</td>\n",
       "      <td>0</td>\n",
       "      <td>0</td>\n",
       "      <td>1</td>\n",
       "    </tr>\n",
       "    <tr>\n",
       "      <td>10</td>\n",
       "      <td>Average Sale To List%</td>\n",
       "      <td>1.568147e-01</td>\n",
       "      <td>0.100000</td>\n",
       "      <td>2.118262e-23</td>\n",
       "      <td>7.632329e-06</td>\n",
       "      <td>0</td>\n",
       "      <td>0</td>\n",
       "      <td>1</td>\n",
       "    </tr>\n",
       "    <tr>\n",
       "      <td>11</td>\n",
       "      <td>Average Sale To List MoM</td>\n",
       "      <td>4.022508e-01</td>\n",
       "      <td>0.100000</td>\n",
       "      <td>2.900495e-01</td>\n",
       "      <td>2.166667e+00</td>\n",
       "      <td>0</td>\n",
       "      <td>0</td>\n",
       "      <td>0</td>\n",
       "    </tr>\n",
       "    <tr>\n",
       "      <td>12</td>\n",
       "      <td>WDXRSA</td>\n",
       "      <td>7.572612e-02</td>\n",
       "      <td>0.100000</td>\n",
       "      <td>9.762568e-27</td>\n",
       "      <td>2.033278e-05</td>\n",
       "      <td>0</td>\n",
       "      <td>0</td>\n",
       "      <td>1</td>\n",
       "    </tr>\n",
       "    <tr>\n",
       "      <td>13</td>\n",
       "      <td>US_UR</td>\n",
       "      <td>9.626251e-01</td>\n",
       "      <td>0.011665</td>\n",
       "      <td>1.008014e-26</td>\n",
       "      <td>5.252038e-04</td>\n",
       "      <td>0</td>\n",
       "      <td>1</td>\n",
       "      <td>1</td>\n",
       "    </tr>\n",
       "    <tr>\n",
       "      <td>14</td>\n",
       "      <td>DMV_UR</td>\n",
       "      <td>4.344899e-01</td>\n",
       "      <td>0.100000</td>\n",
       "      <td>4.981303e-25</td>\n",
       "      <td>3.155966e-03</td>\n",
       "      <td>0</td>\n",
       "      <td>0</td>\n",
       "      <td>1</td>\n",
       "    </tr>\n",
       "    <tr>\n",
       "      <td>15</td>\n",
       "      <td>DC_UR</td>\n",
       "      <td>9.580224e-01</td>\n",
       "      <td>0.100000</td>\n",
       "      <td>4.648410e-27</td>\n",
       "      <td>1.490056e-04</td>\n",
       "      <td>0</td>\n",
       "      <td>0</td>\n",
       "      <td>1</td>\n",
       "    </tr>\n",
       "    <tr>\n",
       "      <td>16</td>\n",
       "      <td>FED_EM</td>\n",
       "      <td>5.295123e-01</td>\n",
       "      <td>0.049551</td>\n",
       "      <td>8.427168e-27</td>\n",
       "      <td>1.422234e-05</td>\n",
       "      <td>0</td>\n",
       "      <td>1</td>\n",
       "      <td>1</td>\n",
       "    </tr>\n",
       "    <tr>\n",
       "      <td>17</td>\n",
       "      <td>FIN_EM</td>\n",
       "      <td>6.092237e-01</td>\n",
       "      <td>0.100000</td>\n",
       "      <td>1.246586e-26</td>\n",
       "      <td>1.396433e-05</td>\n",
       "      <td>0</td>\n",
       "      <td>0</td>\n",
       "      <td>1</td>\n",
       "    </tr>\n",
       "    <tr>\n",
       "      <td>18</td>\n",
       "      <td>HOS_EM</td>\n",
       "      <td>5.432972e-02</td>\n",
       "      <td>0.100000</td>\n",
       "      <td>2.871241e-26</td>\n",
       "      <td>2.402751e-05</td>\n",
       "      <td>0</td>\n",
       "      <td>0</td>\n",
       "      <td>1</td>\n",
       "    </tr>\n",
       "    <tr>\n",
       "      <td>19</td>\n",
       "      <td>DC_PER</td>\n",
       "      <td>2.577835e-14</td>\n",
       "      <td>0.100000</td>\n",
       "      <td>1.108387e-02</td>\n",
       "      <td>7.501440e-01</td>\n",
       "      <td>1</td>\n",
       "      <td>0</td>\n",
       "      <td>1</td>\n",
       "    </tr>\n",
       "    <tr>\n",
       "      <td>20</td>\n",
       "      <td>DMV_PER</td>\n",
       "      <td>2.989333e-01</td>\n",
       "      <td>0.060568</td>\n",
       "      <td>3.060401e-07</td>\n",
       "      <td>1.210131e-01</td>\n",
       "      <td>0</td>\n",
       "      <td>0</td>\n",
       "      <td>1</td>\n",
       "    </tr>\n",
       "    <tr>\n",
       "      <td>21</td>\n",
       "      <td>DMV_PER_1</td>\n",
       "      <td>1.165398e-01</td>\n",
       "      <td>0.100000</td>\n",
       "      <td>1.827803e-14</td>\n",
       "      <td>2.507267e-02</td>\n",
       "      <td>0</td>\n",
       "      <td>0</td>\n",
       "      <td>1</td>\n",
       "    </tr>\n",
       "    <tr>\n",
       "      <td>22</td>\n",
       "      <td>Median Sale Price_log</td>\n",
       "      <td>4.465751e-03</td>\n",
       "      <td>0.043399</td>\n",
       "      <td>2.871947e-23</td>\n",
       "      <td>9.737132e-06</td>\n",
       "      <td>1</td>\n",
       "      <td>1</td>\n",
       "      <td>1</td>\n",
       "    </tr>\n",
       "    <tr>\n",
       "      <td>23</td>\n",
       "      <td>Homes Sold_log</td>\n",
       "      <td>9.520416e-01</td>\n",
       "      <td>0.100000</td>\n",
       "      <td>6.952684e-15</td>\n",
       "      <td>5.685062e-04</td>\n",
       "      <td>0</td>\n",
       "      <td>0</td>\n",
       "      <td>1</td>\n",
       "    </tr>\n",
       "    <tr>\n",
       "      <td>24</td>\n",
       "      <td>New Listings_log</td>\n",
       "      <td>8.721051e-01</td>\n",
       "      <td>0.100000</td>\n",
       "      <td>3.282856e-12</td>\n",
       "      <td>1.215979e-03</td>\n",
       "      <td>0</td>\n",
       "      <td>0</td>\n",
       "      <td>1</td>\n",
       "    </tr>\n",
       "    <tr>\n",
       "      <td>25</td>\n",
       "      <td>Inventory_log</td>\n",
       "      <td>1.900978e-02</td>\n",
       "      <td>0.100000</td>\n",
       "      <td>8.098675e-25</td>\n",
       "      <td>1.050095e-04</td>\n",
       "      <td>1</td>\n",
       "      <td>0</td>\n",
       "      <td>1</td>\n",
       "    </tr>\n",
       "    <tr>\n",
       "      <td>26</td>\n",
       "      <td>Days on Market_log</td>\n",
       "      <td>2.845513e-02</td>\n",
       "      <td>0.100000</td>\n",
       "      <td>2.460989e-20</td>\n",
       "      <td>3.941756e-03</td>\n",
       "      <td>1</td>\n",
       "      <td>0</td>\n",
       "      <td>1</td>\n",
       "    </tr>\n",
       "    <tr>\n",
       "      <td>27</td>\n",
       "      <td>Average Sale To List%_log</td>\n",
       "      <td>1.564795e-01</td>\n",
       "      <td>0.100000</td>\n",
       "      <td>2.083384e-23</td>\n",
       "      <td>3.627027e-07</td>\n",
       "      <td>0</td>\n",
       "      <td>0</td>\n",
       "      <td>1</td>\n",
       "    </tr>\n",
       "    <tr>\n",
       "      <td>28</td>\n",
       "      <td>WDXRSA_log</td>\n",
       "      <td>1.343885e-01</td>\n",
       "      <td>0.100000</td>\n",
       "      <td>9.163338e-27</td>\n",
       "      <td>8.041367e-07</td>\n",
       "      <td>0</td>\n",
       "      <td>0</td>\n",
       "      <td>1</td>\n",
       "    </tr>\n",
       "    <tr>\n",
       "      <td>29</td>\n",
       "      <td>US_UR_log</td>\n",
       "      <td>4.726850e-01</td>\n",
       "      <td>0.100000</td>\n",
       "      <td>9.714145e-27</td>\n",
       "      <td>1.992511e-04</td>\n",
       "      <td>0</td>\n",
       "      <td>0</td>\n",
       "      <td>1</td>\n",
       "    </tr>\n",
       "    <tr>\n",
       "      <td>30</td>\n",
       "      <td>DMV_UR_log</td>\n",
       "      <td>1.253541e-01</td>\n",
       "      <td>0.048324</td>\n",
       "      <td>7.545728e-25</td>\n",
       "      <td>1.650142e-03</td>\n",
       "      <td>0</td>\n",
       "      <td>1</td>\n",
       "      <td>1</td>\n",
       "    </tr>\n",
       "    <tr>\n",
       "      <td>31</td>\n",
       "      <td>DC_UR_log</td>\n",
       "      <td>8.703534e-02</td>\n",
       "      <td>0.100000</td>\n",
       "      <td>4.966953e-27</td>\n",
       "      <td>3.605873e-05</td>\n",
       "      <td>0</td>\n",
       "      <td>0</td>\n",
       "      <td>1</td>\n",
       "    </tr>\n",
       "    <tr>\n",
       "      <td>32</td>\n",
       "      <td>FED_EM_log</td>\n",
       "      <td>5.408870e-01</td>\n",
       "      <td>0.051375</td>\n",
       "      <td>8.279678e-27</td>\n",
       "      <td>3.964202e-07</td>\n",
       "      <td>0</td>\n",
       "      <td>0</td>\n",
       "      <td>1</td>\n",
       "    </tr>\n",
       "    <tr>\n",
       "      <td>33</td>\n",
       "      <td>FIN_EM_log</td>\n",
       "      <td>5.987239e-01</td>\n",
       "      <td>0.100000</td>\n",
       "      <td>1.227953e-26</td>\n",
       "      <td>6.425600e-07</td>\n",
       "      <td>0</td>\n",
       "      <td>0</td>\n",
       "      <td>1</td>\n",
       "    </tr>\n",
       "    <tr>\n",
       "      <td>34</td>\n",
       "      <td>HOS_EM_log</td>\n",
       "      <td>1.822510e-02</td>\n",
       "      <td>0.038998</td>\n",
       "      <td>2.906918e-26</td>\n",
       "      <td>7.636597e-07</td>\n",
       "      <td>1</td>\n",
       "      <td>1</td>\n",
       "      <td>1</td>\n",
       "    </tr>\n",
       "    <tr>\n",
       "      <td>35</td>\n",
       "      <td>DMV_PER_log</td>\n",
       "      <td>3.957622e-01</td>\n",
       "      <td>0.074732</td>\n",
       "      <td>4.654009e-10</td>\n",
       "      <td>2.167363e-03</td>\n",
       "      <td>0</td>\n",
       "      <td>0</td>\n",
       "      <td>1</td>\n",
       "    </tr>\n",
       "    <tr>\n",
       "      <td>36</td>\n",
       "      <td>DMV_PER_1_log</td>\n",
       "      <td>6.739889e-02</td>\n",
       "      <td>0.100000</td>\n",
       "      <td>2.924164e-14</td>\n",
       "      <td>6.080075e-04</td>\n",
       "      <td>0</td>\n",
       "      <td>0</td>\n",
       "      <td>1</td>\n",
       "    </tr>\n",
       "  </tbody>\n",
       "</table>\n",
       "</div>"
      ],
      "text/plain": [
       "                     Features     p_adftest  p_kpsstest      p_ljtest  \\\n",
       "0           Median Sale Price  1.852913e-03    0.048158  5.860334e-23   \n",
       "1       Median Sale Price MoM  4.774490e-07    0.100000  1.510148e-02   \n",
       "2                  Homes Sold  9.371101e-01    0.100000  5.742783e-16   \n",
       "3              Homes Sold MoM  7.690392e-02    0.100000  7.062849e-01   \n",
       "4                New Listings  9.164763e-01    0.100000  3.455617e-13   \n",
       "5            New Listings MoM  4.836519e-01    0.100000  9.330193e-01   \n",
       "6                   Inventory  1.227744e-02    0.085247  3.028106e-25   \n",
       "7               Inventory MoM  9.186213e-01    0.100000  3.047694e-07   \n",
       "8              Days on Market  4.751578e-02    0.100000  1.495454e-19   \n",
       "9          Days on Market MoM  2.668512e-01    0.100000  4.162127e-03   \n",
       "10      Average Sale To List%  1.568147e-01    0.100000  2.118262e-23   \n",
       "11   Average Sale To List MoM  4.022508e-01    0.100000  2.900495e-01   \n",
       "12                     WDXRSA  7.572612e-02    0.100000  9.762568e-27   \n",
       "13                      US_UR  9.626251e-01    0.011665  1.008014e-26   \n",
       "14                     DMV_UR  4.344899e-01    0.100000  4.981303e-25   \n",
       "15                      DC_UR  9.580224e-01    0.100000  4.648410e-27   \n",
       "16                     FED_EM  5.295123e-01    0.049551  8.427168e-27   \n",
       "17                     FIN_EM  6.092237e-01    0.100000  1.246586e-26   \n",
       "18                     HOS_EM  5.432972e-02    0.100000  2.871241e-26   \n",
       "19                     DC_PER  2.577835e-14    0.100000  1.108387e-02   \n",
       "20                    DMV_PER  2.989333e-01    0.060568  3.060401e-07   \n",
       "21                  DMV_PER_1  1.165398e-01    0.100000  1.827803e-14   \n",
       "22      Median Sale Price_log  4.465751e-03    0.043399  2.871947e-23   \n",
       "23             Homes Sold_log  9.520416e-01    0.100000  6.952684e-15   \n",
       "24           New Listings_log  8.721051e-01    0.100000  3.282856e-12   \n",
       "25              Inventory_log  1.900978e-02    0.100000  8.098675e-25   \n",
       "26         Days on Market_log  2.845513e-02    0.100000  2.460989e-20   \n",
       "27  Average Sale To List%_log  1.564795e-01    0.100000  2.083384e-23   \n",
       "28                 WDXRSA_log  1.343885e-01    0.100000  9.163338e-27   \n",
       "29                  US_UR_log  4.726850e-01    0.100000  9.714145e-27   \n",
       "30                 DMV_UR_log  1.253541e-01    0.048324  7.545728e-25   \n",
       "31                  DC_UR_log  8.703534e-02    0.100000  4.966953e-27   \n",
       "32                 FED_EM_log  5.408870e-01    0.051375  8.279678e-27   \n",
       "33                 FIN_EM_log  5.987239e-01    0.100000  1.227953e-26   \n",
       "34                 HOS_EM_log  1.822510e-02    0.038998  2.906918e-26   \n",
       "35                DMV_PER_log  3.957622e-01    0.074732  4.654009e-10   \n",
       "36              DMV_PER_1_log  6.739889e-02    0.100000  2.924164e-14   \n",
       "\n",
       "         stat_dw  index_adftest  index_kpsstest  index_ljtest  \n",
       "0   1.460217e-03              1               1             1  \n",
       "1   2.351027e+00              1               0             1  \n",
       "2   2.136036e-02              0               0             1  \n",
       "3   2.040086e+00              0               0             0  \n",
       "4   4.232778e-02              0               0             1  \n",
       "5   1.955755e+00              0               0             0  \n",
       "6   5.105290e-03              1               0             1  \n",
       "7   1.057099e+00              0               0             1  \n",
       "8   4.371311e-02              1               0             1  \n",
       "9   1.471667e+00              0               0             1  \n",
       "10  7.632329e-06              0               0             1  \n",
       "11  2.166667e+00              0               0             0  \n",
       "12  2.033278e-05              0               0             1  \n",
       "13  5.252038e-04              0               1             1  \n",
       "14  3.155966e-03              0               0             1  \n",
       "15  1.490056e-04              0               0             1  \n",
       "16  1.422234e-05              0               1             1  \n",
       "17  1.396433e-05              0               0             1  \n",
       "18  2.402751e-05              0               0             1  \n",
       "19  7.501440e-01              1               0             1  \n",
       "20  1.210131e-01              0               0             1  \n",
       "21  2.507267e-02              0               0             1  \n",
       "22  9.737132e-06              1               1             1  \n",
       "23  5.685062e-04              0               0             1  \n",
       "24  1.215979e-03              0               0             1  \n",
       "25  1.050095e-04              1               0             1  \n",
       "26  3.941756e-03              1               0             1  \n",
       "27  3.627027e-07              0               0             1  \n",
       "28  8.041367e-07              0               0             1  \n",
       "29  1.992511e-04              0               0             1  \n",
       "30  1.650142e-03              0               1             1  \n",
       "31  3.605873e-05              0               0             1  \n",
       "32  3.964202e-07              0               0             1  \n",
       "33  6.425600e-07              0               0             1  \n",
       "34  7.636597e-07              1               1             1  \n",
       "35  2.167363e-03              0               0             1  \n",
       "36  6.080075e-04              0               0             1  "
      ]
     },
     "execution_count": 15,
     "metadata": {},
     "output_type": "execute_result"
    }
   ],
   "source": [
    "test_p_value(p = .05, name = 'adftest')\n",
    "test_p_value(p = .05, name = 'kpsstest')\n",
    "test_p_value(p = .05, name = 'ljtest')\n",
    "test_matrix"
   ]
  },
  {
   "cell_type": "code",
   "execution_count": 16,
   "metadata": {},
   "outputs": [],
   "source": [
    "# Save the final testing results in data folder\n",
    "test_matrix.to_csv('../data/TM_test.csv')"
   ]
  },
  {
   "cell_type": "code",
   "execution_count": 17,
   "metadata": {},
   "outputs": [
    {
     "data": {
      "text/plain": [
       "['Homes Sold MoM', 'New Listings MoM', 'Average Sale To List MoM']"
      ]
     },
     "execution_count": 17,
     "metadata": {},
     "output_type": "execute_result"
    }
   ],
   "source": [
    "# Find all features are stationary and autocorrelation 0 based on both KPSS and DW tests\n",
    "index_kpss = test_matrix['index_kpsstest'] == 0\n",
    "index_lj = test_matrix['index_ljtest'] == 0\n",
    "test_col = list(test_matrix[index_kpss & index_lj][\"Features\"])\n",
    "test_col"
   ]
  },
  {
   "cell_type": "code",
   "execution_count": 18,
   "metadata": {},
   "outputs": [
    {
     "data": {
      "text/plain": [
       "['Median Sale Price MoM',\n",
       " 'Homes Sold',\n",
       " 'New Listings',\n",
       " 'Inventory',\n",
       " 'Inventory MoM',\n",
       " 'Days on Market',\n",
       " 'Days on Market MoM',\n",
       " 'Average Sale To List%',\n",
       " 'WDXRSA',\n",
       " 'DMV_UR',\n",
       " 'DC_UR',\n",
       " 'FIN_EM',\n",
       " 'HOS_EM',\n",
       " 'DC_PER',\n",
       " 'DMV_PER',\n",
       " 'DMV_PER_1',\n",
       " 'Homes Sold_log',\n",
       " 'New Listings_log',\n",
       " 'Inventory_log',\n",
       " 'Days on Market_log',\n",
       " 'Average Sale To List%_log',\n",
       " 'WDXRSA_log',\n",
       " 'US_UR_log',\n",
       " 'DC_UR_log',\n",
       " 'FED_EM_log',\n",
       " 'FIN_EM_log',\n",
       " 'DMV_PER_log',\n",
       " 'DMV_PER_1_log']"
      ]
     },
     "execution_count": 18,
     "metadata": {},
     "output_type": "execute_result"
    }
   ],
   "source": [
    "index_dw1 = test_matrix['index_ljtest'] >= 1 \n",
    "index_dw2 = test_matrix['index_ljtest'] <= 3 \n",
    "test_col = list(test_matrix[index_kpss & index_dw1 & index_dw2][\"Features\"])\n",
    "test_col"
   ]
  },
  {
   "cell_type": "code",
   "execution_count": 19,
   "metadata": {},
   "outputs": [
    {
     "data": {
      "text/plain": [
       "['Homes Sold',\n",
       " 'New Listings',\n",
       " 'Inventory',\n",
       " 'Inventory MoM',\n",
       " 'Days on Market',\n",
       " 'Days on Market MoM',\n",
       " 'Average Sale To List%',\n",
       " 'WDXRSA',\n",
       " 'DMV_UR',\n",
       " 'DC_UR',\n",
       " 'FIN_EM',\n",
       " 'HOS_EM',\n",
       " 'DC_PER',\n",
       " 'DMV_PER',\n",
       " 'DMV_PER_1',\n",
       " 'Homes Sold_log',\n",
       " 'New Listings_log',\n",
       " 'Inventory_log',\n",
       " 'Days on Market_log',\n",
       " 'Average Sale To List%_log',\n",
       " 'WDXRSA_log',\n",
       " 'US_UR_log',\n",
       " 'DC_UR_log',\n",
       " 'FED_EM_log',\n",
       " 'FIN_EM_log',\n",
       " 'DMV_PER_log',\n",
       " 'DMV_PER_1_log']"
      ]
     },
     "execution_count": 19,
     "metadata": {},
     "output_type": "execute_result"
    }
   ],
   "source": [
    "test_col.remove('Median Sale Price MoM')\n",
    "test_col"
   ]
  },
  {
   "cell_type": "code",
   "execution_count": 20,
   "metadata": {},
   "outputs": [],
   "source": [
    "# split In-Time and Out-of-Time samples "
   ]
  },
  {
   "cell_type": "code",
   "execution_count": 199,
   "metadata": {},
   "outputs": [],
   "source": [
    "train_x = df[test_col][0:100]\n",
    "test_x = df[test_col][101:117]"
   ]
  },
  {
   "cell_type": "code",
   "execution_count": 21,
   "metadata": {},
   "outputs": [],
   "source": [
    "train_x = df[test_col][0:100]\n",
    "test_x = df[test_col][101:117]\n",
    "train_y = df[\"Median Sale Price\"][0:100]\n",
    "test_y = df[\"Median Sale Price\"][101:117]"
   ]
  },
  {
   "cell_type": "code",
   "execution_count": 22,
   "metadata": {},
   "outputs": [],
   "source": [
    "# feature selection: forward/backward stepwise regression and KBest"
   ]
  },
  {
   "cell_type": "code",
   "execution_count": 25,
   "metadata": {
    "scrolled": true
   },
   "outputs": [
    {
     "name": "stderr",
     "output_type": "stream",
     "text": [
      "/Users/cslsh/opt/anaconda3/envs/learn-env/lib/python3.6/site-packages/numpy/core/fromnumeric.py:2389: FutureWarning: Method .ptp is deprecated and will be removed in a future version. Use numpy.ptp instead.\n",
      "  return ptp(axis=axis, out=out, **kwargs)\n"
     ]
    },
    {
     "name": "stdout",
     "output_type": "stream",
     "text": [
      "Add  WDXRSA_log                     with p-value 2.50628e-33\n",
      "Add  Days on Market                 with p-value 1.82053e-17\n",
      "Add  FIN_EM                         with p-value 2.43286e-05\n",
      "Add  DC_UR_log                      with p-value 0.0682813\n"
     ]
    }
   ],
   "source": [
    "result = stepwise_selection(train_x, train_y, threshold_in = 0.1, threshold_out = 0.15)"
   ]
  },
  {
   "cell_type": "code",
   "execution_count": 26,
   "metadata": {},
   "outputs": [
    {
     "name": "stdout",
     "output_type": "stream",
     "text": [
      "resulting features:\n",
      "['WDXRSA_log', 'Days on Market', 'FIN_EM', 'DC_UR_log']\n"
     ]
    }
   ],
   "source": [
    "print('resulting features:')\n",
    "print(result)"
   ]
  },
  {
   "cell_type": "code",
   "execution_count": 187,
   "metadata": {},
   "outputs": [],
   "source": [
    "# %load ../python_folder/python_files/ForwardBackwardStepwiseRegression"
   ]
  },
  {
   "cell_type": "code",
   "execution_count": 24,
   "metadata": {},
   "outputs": [],
   "source": [
    "#from sklearn.datasets import load_boston\n",
    "import pandas as pd\n",
    "import numpy as np\n",
    "import statsmodels.api as sm\n",
    "\n",
    "#data = load_boston()\n",
    "#X = pd.DataFrame(data.data, columns=data.feature_names)\n",
    "#y = data.target\n",
    "\n",
    "\n",
    "def stepwise_selection(X, y, \n",
    "                       initial_list=[], \n",
    "                       threshold_in=0.01, \n",
    "                       threshold_out = 0.05, \n",
    "                       verbose=True):\n",
    "    \"\"\" Perform a forward-backward feature selection \n",
    "    based on p-value from statsmodels.api.OLS\n",
    "    Arguments:\n",
    "        X - pandas.DataFrame with candidate features\n",
    "        y - list-like with the target\n",
    "        initial_list - list of features to start with (column names of X)\n",
    "        threshold_in - include a feature if its p-value < threshold_in\n",
    "        threshold_out - exclude a feature if its p-value > threshold_out\n",
    "        verbose - whether to print the sequence of inclusions and exclusions\n",
    "    Returns: list of selected features \n",
    "    Always set threshold_in < threshold_out to avoid infinite looping.\n",
    "    See https://en.wikipedia.org/wiki/Stepwise_regression for the details\n",
    "    \"\"\"\n",
    "    included = list(initial_list)\n",
    "    while True:\n",
    "        changed=False\n",
    "        # forward step\n",
    "        excluded = list(set(X.columns)-set(included))\n",
    "        new_pval = pd.Series(index=excluded)\n",
    "        for new_column in excluded:\n",
    "            model = sm.OLS(y, sm.add_constant(pd.DataFrame(X[included+[new_column]]))).fit()\n",
    "            new_pval[new_column] = model.pvalues[new_column]\n",
    "        best_pval = new_pval.min()\n",
    "        if best_pval < threshold_in:\n",
    "            best_feature = new_pval.idxmin() # change argmin to idxmin\n",
    "            included.append(best_feature)\n",
    "            changed=True\n",
    "            if verbose:\n",
    "                print('Add  {:30} with p-value {:.6}'.format(best_feature, best_pval))\n",
    "\n",
    "        # backward step\n",
    "        model = sm.OLS(y, sm.add_constant(pd.DataFrame(X[included]))).fit()\n",
    "        # use all coefs except intercept\n",
    "        pvalues = model.pvalues.iloc[1:]\n",
    "        worst_pval = pvalues.max() # null if pvalues is empty\n",
    "        if worst_pval > threshold_out:\n",
    "            changed=True\n",
    "            worst_feature = pvalues.argmax()\n",
    "            included.remove(worst_feature)\n",
    "            if verbose:\n",
    "                print('Drop {:30} with p-value {:.6}'.format(worst_feature, worst_pval))\n",
    "        if not changed:\n",
    "            break\n",
    "    return included\n",
    "\n",
    "#result = stepwise_selection(X, y)\n",
    "\n",
    "#print('resulting features:')\n",
    "#print(result)"
   ]
  },
  {
   "cell_type": "code",
   "execution_count": 205,
   "metadata": {},
   "outputs": [],
   "source": [
    "# %load ../python_folder/python_files/KBest"
   ]
  },
  {
   "cell_type": "code",
   "execution_count": 47,
   "metadata": {},
   "outputs": [
    {
     "name": "stdout",
     "output_type": "stream",
     "text": [
      "                        Specs       Score\n",
      "20                 WDXRSA_log  333.841486\n",
      "7                      WDXRSA  315.403996\n",
      "19  Average Sale To List%_log  265.110576\n",
      "6       Average Sale To List%  264.177267\n",
      "23                 FED_EM_log  242.845214\n",
      "11                     HOS_EM  218.792930\n",
      "9                       DC_UR  214.924853\n",
      "21                  US_UR_log  201.474803\n",
      "22                  DC_UR_log  183.035432\n",
      "8                      DMV_UR  143.391478\n"
     ]
    }
   ],
   "source": [
    "# Feature selection using KBest with f_regreesion\n",
    "# https://scikit-learn.org/stable/modules/generated/sklearn.feature_selection.SelectKBest.html?highlight=selectkbest#sklearn.feature_selection.SelectKBest\n",
    "\n",
    "from sklearn.feature_selection import SelectKBest, f_classif, f_regression, chi2\n",
    "bestfeatures = SelectKBest(score_func = f_regression , k = 10)\n",
    "fit = bestfeatures.fit(train_x,train_y)\n",
    "dfscores = pd.DataFrame(fit.scores_)\n",
    "dfcolumns = pd.DataFrame(train_x.columns)\n",
    "#concat two dataframes for better visualization \n",
    "featureScores = pd.concat([dfcolumns,dfscores],axis=1)\n",
    "featureScores.columns = ['Specs','Score']  #naming the dataframe columns\n",
    "print(featureScores.nlargest(10,'Score'))  #print 10 best features"
   ]
  },
  {
   "cell_type": "code",
   "execution_count": 61,
   "metadata": {},
   "outputs": [],
   "source": [
    "col_kbest = list(featureScores.nlargest(10,'Score')['Specs'])"
   ]
  },
  {
   "cell_type": "code",
   "execution_count": 62,
   "metadata": {},
   "outputs": [],
   "source": [
    "col_kbest.remove('WDXRSA')\n",
    "col_kbest.remove('Average Sale To List%')\n",
    "col_kbest.remove('US_UR_log')\n",
    "col_kbest.remove('DC_UR_log')\n",
    "col_kbest.remove('DMV_UR')"
   ]
  },
  {
   "cell_type": "code",
   "execution_count": 63,
   "metadata": {},
   "outputs": [
    {
     "data": {
      "text/plain": [
       "['WDXRSA_log', 'Average Sale To List%_log', 'FED_EM_log', 'HOS_EM', 'DC_UR']"
      ]
     },
     "execution_count": 63,
     "metadata": {},
     "output_type": "execute_result"
    }
   ],
   "source": [
    "col_kbest"
   ]
  },
  {
   "cell_type": "code",
   "execution_count": null,
   "metadata": {},
   "outputs": [],
   "source": [
    "from sklearn.feature_selection import SelectKBest, f_classif, f_regression, chi2, mutual_info_regression\n",
    "bestfeatures = SelectKBest(score_func = chi2 , k = 10)\n",
    "fit = bestfeatures.fit(train_x,train_y)\n",
    "dfscores = pd.DataFrame(fit.scores_)\n",
    "dfcolumns = pd.DataFrame(train_x.columns)\n",
    "#concat two dataframes for better visualization \n",
    "featureScores = pd.concat([dfcolumns,dfscores],axis=1)\n",
    "featureScores.columns = ['Specs','Score']  #naming the dataframe columns\n",
    "print(featureScores.nlargest(10,'Score'))  #print 10 best features"
   ]
  },
  {
   "cell_type": "code",
   "execution_count": 70,
   "metadata": {},
   "outputs": [
    {
     "name": "stdout",
     "output_type": "stream",
     "text": [
      "                        Specs     Score\n",
      "7                       DC_UR  0.757527\n",
      "9                      HOS_EM  0.745630\n",
      "16                 WDXRSA_log  0.734908\n",
      "5                      WDXRSA  0.731410\n",
      "18                  DC_UR_log  0.722578\n",
      "17                  US_UR_log  0.713083\n",
      "6                      DMV_UR  0.693574\n",
      "4       Average Sale To List%  0.651468\n",
      "15  Average Sale To List%_log  0.641718\n",
      "19                 FED_EM_log  0.629484\n"
     ]
    }
   ],
   "source": [
    "from sklearn.feature_selection import SelectKBest, f_classif, f_regression, chi2, mutual_info_regression\n",
    "bestfeatures = SelectKBest(score_func = mutual_info_regression , k = 10) # \n",
    "fit = bestfeatures.fit(train_x,train_y)\n",
    "dfscores = pd.DataFrame(fit.scores_)\n",
    "dfcolumns = pd.DataFrame(train_x.columns)\n",
    "#concat two dataframes for better visualization \n",
    "featureScores = pd.concat([dfcolumns,dfscores],axis=1)\n",
    "featureScores.columns = ['Specs','Score']  #naming the dataframe columns\n",
    "print(featureScores.nlargest(10,'Score'))  #print 10 best features"
   ]
  },
  {
   "cell_type": "code",
   "execution_count": 67,
   "metadata": {},
   "outputs": [],
   "source": [
    "sel_x = train_x[['WDXRSA_log', 'Days on Market', 'FIN_EM', 'DC_UR_log']]"
   ]
  },
  {
   "cell_type": "code",
   "execution_count": 68,
   "metadata": {},
   "outputs": [
    {
     "name": "stdout",
     "output_type": "stream",
     "text": [
      "                            OLS Regression Results                            \n",
      "==============================================================================\n",
      "Dep. Variable:      Median Sale Price   R-squared:                       0.914\n",
      "Model:                            OLS   Adj. R-squared:                  0.910\n",
      "Method:                 Least Squares   F-statistic:                     252.6\n",
      "Date:                Tue, 21 Jan 2020   Prob (F-statistic):           1.05e-49\n",
      "Time:                        15:06:37   Log-Likelihood:                -1034.5\n",
      "No. Observations:                 100   AIC:                             2079.\n",
      "Df Residuals:                      95   BIC:                             2092.\n",
      "Df Model:                           4                                         \n",
      "Covariance Type:            nonrobust                                         \n",
      "==================================================================================\n",
      "                     coef    std err          t      P>|t|      [0.025      0.975]\n",
      "----------------------------------------------------------------------------------\n",
      "const          -7.034e+05   2.37e+05     -2.965      0.004   -1.17e+06   -2.32e+05\n",
      "WDXRSA_log      2.752e+05   3.93e+04      7.000      0.000    1.97e+05    3.53e+05\n",
      "Days on Market  -775.0785     69.472    -11.157      0.000    -912.998    -637.159\n",
      "FIN_EM         -4022.3277    828.401     -4.856      0.000   -5666.911   -2377.744\n",
      "DC_UR_log      -2.778e+04   1.51e+04     -1.844      0.068   -5.77e+04    2125.788\n",
      "==============================================================================\n",
      "Omnibus:                        0.662   Durbin-Watson:                   1.569\n",
      "Prob(Omnibus):                  0.718   Jarque-Bera (JB):                0.770\n",
      "Skew:                           0.086   Prob(JB):                        0.680\n",
      "Kurtosis:                       2.606   Cond. No.                     3.27e+04\n",
      "==============================================================================\n",
      "\n",
      "Warnings:\n",
      "[1] Standard Errors assume that the covariance matrix of the errors is correctly specified.\n",
      "[2] The condition number is large, 3.27e+04. This might indicate that there are\n",
      "strong multicollinearity or other numerical problems.\n"
     ]
    },
    {
     "name": "stderr",
     "output_type": "stream",
     "text": [
      "/Users/cslsh/opt/anaconda3/envs/learn-env/lib/python3.6/site-packages/numpy/core/fromnumeric.py:2389: FutureWarning: Method .ptp is deprecated and will be removed in a future version. Use numpy.ptp instead.\n",
      "  return ptp(axis=axis, out=out, **kwargs)\n"
     ]
    }
   ],
   "source": [
    "# run time series model\n",
    "\n",
    "#sel_x = train_x[['WDXRSA_log', 'Days on Market', 'FIN_EM', 'DC_UR_log']]\n",
    "sel_x = train_x[['WDXRSA_log', 'Days on Market', 'FIN_EM', 'DC_UR_log']]\n",
    "train_X = sm.add_constant(sel_x)\n",
    "mod = sm.OLS(train_y, train_X, hasconst= True)\n",
    "res = mod.fit()\n",
    "print(res.summary())"
   ]
  },
  {
   "cell_type": "code",
   "execution_count": 69,
   "metadata": {},
   "outputs": [
    {
     "data": {
      "text/plain": [
       "[('WDXRSA_log', 12408.124229168003),\n",
       " ('Days on Market', 8.948622403607981),\n",
       " ('FIN_EM', 10847.262583875192),\n",
       " ('DC_UR_log', 153.5929543149458)]"
      ]
     },
     "execution_count": 69,
     "metadata": {},
     "output_type": "execute_result"
    }
   ],
   "source": [
    "from statsmodels.stats.outliers_influence import variance_inflation_factor\n",
    "\n",
    "vif = [variance_inflation_factor(sel_x.values, i) for i in range(sel_x.shape[1])]\n",
    "list(zip(['WDXRSA_log', 'Days on Market', 'FIN_EM', 'DC_UR_log'], vif))"
   ]
  },
  {
   "cell_type": "code",
   "execution_count": 70,
   "metadata": {},
   "outputs": [
    {
     "data": {
      "text/plain": [
       "KstestResult(statistic=0.53, pvalue=9.783646983229687e-27)"
      ]
     },
     "execution_count": 70,
     "metadata": {},
     "output_type": "execute_result"
    }
   ],
   "source": [
    "from scipy.stats import kstest\n",
    "from scipy.stats import stats\n",
    "#residual = mlr.predict(X) - Y\n",
    "residual = res.resid\n",
    "kstest(residual, \"norm\")"
   ]
  },
  {
   "cell_type": "code",
   "execution_count": 71,
   "metadata": {},
   "outputs": [
    {
     "data": {
      "text/plain": [
       "NormaltestResult(statistic=0.6623491661299967, pvalue=0.7180797935254009)"
      ]
     },
     "execution_count": 71,
     "metadata": {},
     "output_type": "execute_result"
    }
   ],
   "source": [
    "stats.normaltest(residual)"
   ]
  },
  {
   "cell_type": "code",
   "execution_count": 72,
   "metadata": {},
   "outputs": [
    {
     "data": {
      "image/png": "[encoded data removed]",
      "text/plain": [
       "<Figure size 432x288 with 1 Axes>"
      ]
     },
     "metadata": {
      "needs_background": "light"
     },
     "output_type": "display_data"
    }
   ],
   "source": [
    "fig = sm.qqplot(residual, line = 'r')\n",
    "plt.show()\n",
    "fig.savefig(\"../data_visualization/Q-Q Plot for Car Fit.png\")"
   ]
  },
  {
   "cell_type": "code",
   "execution_count": 73,
   "metadata": {},
   "outputs": [
    {
     "name": "stderr",
     "output_type": "stream",
     "text": [
      "/Users/cslsh/opt/anaconda3/envs/learn-env/lib/python3.6/site-packages/statsmodels/tsa/stattools.py:1685: FutureWarning: The behavior of using lags=None will change in the next release. Currently lags=None is the same as lags='legacy', and so a sample-size lag length is used. After the next release, the default will change to be the same as lags='auto' which uses an automatic lag length selection method. To silence this warning, either use 'auto' or 'legacy'\n",
      "  warn(msg, FutureWarning)\n",
      "/Users/cslsh/opt/anaconda3/envs/learn-env/lib/python3.6/site-packages/statsmodels/tsa/stattools.py:1710: InterpolationWarning: p-value is greater than the indicated p-value\n",
      "  warn(\"p-value is greater than the indicated p-value\", InterpolationWarning)\n"
     ]
    },
    {
     "data": {
      "text/plain": [
       "0.1"
      ]
     },
     "execution_count": 73,
     "metadata": {},
     "output_type": "execute_result"
    }
   ],
   "source": [
    "temp = kpss(residual, regression = 'ct')\n",
    "temp[1]"
   ]
  },
  {
   "cell_type": "code",
   "execution_count": 74,
   "metadata": {},
   "outputs": [
    {
     "data": {
      "text/plain": [
       "0.04716138254416765"
      ]
     },
     "execution_count": 74,
     "metadata": {},
     "output_type": "execute_result"
    }
   ],
   "source": [
    "temp = acorr_ljungbox(residual, lags = 2)\n",
    "temp[1][0]"
   ]
  },
  {
   "cell_type": "code",
   "execution_count": 75,
   "metadata": {},
   "outputs": [
    {
     "data": {
      "text/plain": [
       "0     14718.916514\n",
       "1     -3885.552908\n",
       "2      3948.267883\n",
       "3     -5323.540946\n",
       "4    -11904.537159\n",
       "          ...     \n",
       "95     1592.962532\n",
       "96     8414.852880\n",
       "97    -1176.586344\n",
       "98    -1095.813262\n",
       "99     2939.459989\n",
       "Length: 100, dtype: float64"
      ]
     },
     "execution_count": 75,
     "metadata": {},
     "output_type": "execute_result"
    }
   ],
   "source": [
    "residual"
   ]
  },
  {
   "cell_type": "code",
   "execution_count": 76,
   "metadata": {},
   "outputs": [],
   "source": [
    "sel_x_test = test_x[['WDXRSA_log', 'Days on Market', 'FIN_EM', 'DC_UR_log']]\n",
    "test_X = sm.add_constant(sel_x_test)\n",
    "#mod.predit(test_X)"
   ]
  },
  {
   "cell_type": "code",
   "execution_count": 77,
   "metadata": {},
   "outputs": [
    {
     "data": {
      "text/plain": [
       "101    303000.0\n",
       "102    291000.0\n",
       "103    300000.0\n",
       "104    299000.0\n",
       "105    290000.0\n",
       "106    307000.0\n",
       "107    300000.0\n",
       "108    300000.0\n",
       "109    315000.0\n",
       "110    316000.0\n",
       "111    317000.0\n",
       "112    325000.0\n",
       "113    318000.0\n",
       "114    300000.0\n",
       "115    315000.0\n",
       "116    330000.0\n",
       "Name: Median Sale Price, dtype: float64"
      ]
     },
     "execution_count": 77,
     "metadata": {},
     "output_type": "execute_result"
    }
   ],
   "source": [
    "test_y"
   ]
  },
  {
   "cell_type": "code",
   "execution_count": 80,
   "metadata": {},
   "outputs": [
    {
     "data": {
      "text/plain": [
       "6134.980863086658"
      ]
     },
     "execution_count": 80,
     "metadata": {},
     "output_type": "execute_result"
    }
   ],
   "source": [
    "np.mean(abs(residual))"
   ]
  },
  {
   "cell_type": "code",
   "execution_count": 81,
   "metadata": {},
   "outputs": [
    {
     "data": {
      "text/plain": [
       "0.022775472299420056"
      ]
     },
     "execution_count": 81,
     "metadata": {},
     "output_type": "execute_result"
    }
   ],
   "source": [
    "np.mean(abs(residual)/train_y)"
   ]
  },
  {
   "cell_type": "code",
   "execution_count": 78,
   "metadata": {},
   "outputs": [
    {
     "data": {
      "text/plain": [
       "6837.281727647009"
      ]
     },
     "execution_count": 78,
     "metadata": {},
     "output_type": "execute_result"
    }
   ],
   "source": [
    "np.mean((abs(res.predict(test_X) - test_y)))"
   ]
  },
  {
   "cell_type": "code",
   "execution_count": 79,
   "metadata": {},
   "outputs": [
    {
     "data": {
      "text/plain": [
       "0.022429211309385536"
      ]
     },
     "execution_count": 79,
     "metadata": {},
     "output_type": "execute_result"
    }
   ],
   "source": [
    "np.mean((abs(res.predict(test_X) - test_y))/test_y)"
   ]
  },
  {
   "cell_type": "code",
   "execution_count": 43,
   "metadata": {},
   "outputs": [],
   "source": [
    "def MAE(pred_y, act_y):\n",
    "    return np.mean(abs(res.predict(test_X) - test_y))"
   ]
  },
  {
   "cell_type": "code",
   "execution_count": null,
   "metadata": {},
   "outputs": [],
   "source": [
    "def MAPE(pred_y, act_y):\n",
    "    size = len(pred_y)\n",
    "    ape = []\n",
    "    for i in range(size):\n",
    "        ape.append()"
   ]
  },
  {
   "cell_type": "code",
   "execution_count": 84,
   "metadata": {},
   "outputs": [
    {
     "data": {
      "text/plain": [
       "(1.5330903243272243,\n",
       " 0.8207642104471837,\n",
       " 0.36977798249889937,\n",
       " 0.8296370395166259)"
      ]
     },
     "execution_count": 84,
     "metadata": {},
     "output_type": "execute_result"
    }
   ],
   "source": [
    "res.model.exog\n",
    "het_breuschpagan(residual, res.model.exog)"
   ]
  },
  {
   "cell_type": "code",
   "execution_count": 90,
   "metadata": {},
   "outputs": [
    {
     "data": {
      "text/plain": [
       "[('Lagrange multiplier statistic', 1.5330903243272243),\n",
       " ('p-value', 0.8207642104471837),\n",
       " ('f-value', 0.36977798249889937),\n",
       " ('f p-value', 0.8296370395166259)]"
      ]
     },
     "execution_count": 90,
     "metadata": {},
     "output_type": "execute_result"
    }
   ],
   "source": [
    "name = ['Lagrange multiplier statistic', 'p-value',\n",
    "        'f-value', 'f p-value']\n",
    "test = het_breuschpagan(residual, res.model.exog)\n",
    "lzip(name, test)"
   ]
  },
  {
   "cell_type": "code",
   "execution_count": 94,
   "metadata": {},
   "outputs": [
    {
     "data": {
      "text/plain": [
       "[('F statistic', 1.1294780199970185), ('p-value', 0.3423735915985968)]"
      ]
     },
     "execution_count": 94,
     "metadata": {},
     "output_type": "execute_result"
    }
   ],
   "source": [
    "name = ['F statistic', 'p-value']\n",
    "test = het_goldfeldquandt(residual, res.model.exog)\n",
    "lzip(name, test)"
   ]
  },
  {
   "cell_type": "code",
   "execution_count": null,
   "metadata": {},
   "outputs": [],
   "source": []
  }
 ],
 "metadata": {
  "kernelspec": {
   "display_name": "Python 3",
   "language": "python",
   "name": "python3"
  },
  "language_info": {
   "codemirror_mode": {
    "name": "ipython",
    "version": 3
   },
   "file_extension": ".py",
   "mimetype": "text/x-python",
   "name": "python",
   "nbconvert_exporter": "python",
   "pygments_lexer": "ipython3",
   "version": "3.6.9"
  }
 },
 "nbformat": 4,
 "nbformat_minor": 2
}
