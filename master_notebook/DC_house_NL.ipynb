{
 "cells": [
  {
   "cell_type": "markdown",
   "metadata": {},
   "source": [
    "## DC House Price"
   ]
  },
  {
   "cell_type": "markdown",
   "metadata": {},
   "source": [
    "#### Project goal: \n",
    "\n",
    "- Predict the median house price in DC\n",
    "- use the right housing statistics and macro variables: (1) time series, (2) acf/pacf plots, (3) stationary test and (4) autocorrelation test\n",
    "- Modeling: time series linear regression: feature selection in R-squared, AIC, etc.\n",
    "- Cross validation: Out-of-time performance\n",
    "- Residual analysis: (1) normality test, (2) Q-Q plot, (3) MAE, (4) MAPE, (5) Homoscedastic test, (6) stationary test and (7) autocorrelation test "
   ]
  },
  {
   "cell_type": "code",
   "execution_count": 2,
   "metadata": {},
   "outputs": [],
   "source": [
    "#Import libraries\n",
    "import pandas as pd\n",
    "import numpy as np\n",
    "import matplotlib.pyplot as plt\n",
    "import seaborn as sns\n",
    "%matplotlib inline"
   ]
  },
  {
   "cell_type": "code",
   "execution_count": 6,
   "metadata": {},
   "outputs": [],
   "source": [
    "# tests for stationary \n",
    "from statsmodels.tsa.stattools import adfuller\n",
    "from statsmodels.tsa.stattools import kpss\n",
    "\n",
    "import statsmodels.api as sm\n",
    "\n",
    "#tests for autocorrelation\n",
    "from statsmodels.stats.diagnostic import acorr_breusch_godfrey\n",
    "from statsmodels.stats.stattools import durbin_watson\n",
    "from statsmodels.stats.diagnostic import acorr_ljungbox\n",
    "\n",
    "#test of Heteroscedasticity\n",
    "from statsmodels.stats.diagnostic import het_breuschpagan\n",
    "\n",
    "#test for cointegration\n",
    "from statsmodels.tsa.vector_ar.vecm import coint_johansen "
   ]
  },
  {
   "cell_type": "code",
   "execution_count": 4,
   "metadata": {},
   "outputs": [],
   "source": [
    "df = pd.read_csv(\"../data/full_data.csv\")"
   ]
  },
  {
   "cell_type": "code",
   "execution_count": 5,
   "metadata": {},
   "outputs": [
    {
     "name": "stdout",
     "output_type": "stream",
     "text": [
      "<class 'pandas.core.frame.DataFrame'>\n",
      "RangeIndex: 118 entries, 0 to 117\n",
      "Data columns (total 24 columns):\n",
      "Time                        118 non-null object\n",
      "Median Sale Price           118 non-null float64\n",
      "Median Sale Price MoM       118 non-null float64\n",
      "Homes Sold                  118 non-null float64\n",
      "Homes Sold MoM              118 non-null float64\n",
      "New Listings                118 non-null float64\n",
      "New Listings MoM            118 non-null float64\n",
      "Inventory                   118 non-null float64\n",
      "Inventory MoM               118 non-null float64\n",
      "Days on Market              118 non-null int64\n",
      "Days on Market MoM          118 non-null float64\n",
      "Average Sale To List%       118 non-null float64\n",
      "Average Sale To List MoM    118 non-null float64\n",
      "DATE                        117 non-null object\n",
      "WDXRSA                      117 non-null float64\n",
      "US_UR                       117 non-null float64\n",
      "DMV_UR                      117 non-null float64\n",
      "DC_UR                       117 non-null float64\n",
      "FED_EM                      117 non-null float64\n",
      "FIN_EM                      117 non-null float64\n",
      "HOS_EM                      117 non-null float64\n",
      "DC_PER                      117 non-null float64\n",
      "DMV_PER                     117 non-null float64\n",
      "DMV_PER_1                   117 non-null float64\n",
      "dtypes: float64(21), int64(1), object(2)\n",
      "memory usage: 22.2+ KB\n"
     ]
    }
   ],
   "source": [
    "df.info()"
   ]
  },
  {
   "cell_type": "code",
   "execution_count": null,
   "metadata": {},
   "outputs": [],
   "source": []
  },
  {
   "cell_type": "code",
   "execution_count": null,
   "metadata": {},
   "outputs": [],
   "source": [
    "#ACF plot\n",
    "\n",
    "sm.graphics.tsa.plot_acf(dta.values.squeeze(), lags=40)\n",
    "sm.graphics.tsa.plot_pacf(dta.values.squeeze(), lags=40)"
   ]
  },
  {
   "cell_type": "code",
   "execution_count": null,
   "metadata": {},
   "outputs": [],
   "source": []
  }
 ],
 "metadata": {
  "kernelspec": {
   "display_name": "Python 3",
   "language": "python",
   "name": "python3"
  },
  "language_info": {
   "codemirror_mode": {
    "name": "ipython",
    "version": 3
   },
   "file_extension": ".py",
   "mimetype": "text/x-python",
   "name": "python",
   "nbconvert_exporter": "python",
   "pygments_lexer": "ipython3",
   "version": "3.6.9"
  }
 },
 "nbformat": 4,
 "nbformat_minor": 2
}
