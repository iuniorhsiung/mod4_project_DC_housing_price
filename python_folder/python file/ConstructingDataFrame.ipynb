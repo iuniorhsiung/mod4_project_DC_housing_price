{
 "cells": [
  {
   "cell_type": "code",
   "execution_count": 48,
   "metadata": {},
   "outputs": [],
   "source": [
    "import numpy as np\n",
    "import matplotlib.pyplot as plt\n",
    "import pandas as pd\n",
    "import seaborn as sns\n",
    "from scipy import stats"
   ]
  },
  {
   "cell_type": "code",
   "execution_count": 49,
   "metadata": {},
   "outputs": [],
   "source": [
    "snp = pd.read_csv('../../../mod4_project_DC_housing_price/data/WDXRSA.csv')\n",
    "df = snp"
   ]
  },
  {
   "cell_type": "code",
   "execution_count": 50,
   "metadata": {},
   "outputs": [],
   "source": [
    "UR = pd.read_csv('../../../mod4_project_DC_housing_price/data/UNRATE.csv')\n",
    "df['US_UR'] = UR['UNRATE']"
   ]
  },
  {
   "cell_type": "code",
   "execution_count": 51,
   "metadata": {},
   "outputs": [],
   "source": [
    "DMV_UR = pd.read_csv('../../../mod4_project_DC_housing_price/data/WASH911URN.csv')\n",
    "df['DMV_UR'] = DMV_UR['WASH911URN']"
   ]
  },
  {
   "cell_type": "code",
   "execution_count": 52,
   "metadata": {},
   "outputs": [],
   "source": [
    "DC_UR = pd.read_csv('../../../mod4_project_DC_housing_price/data/DCUR.csv')\n",
    "df['DC_UR'] = DC_UR['DCUR']"
   ]
  },
  {
   "cell_type": "code",
   "execution_count": 53,
   "metadata": {},
   "outputs": [],
   "source": [
    "FedEm = pd.read_csv('../../../mod4_project_DC_housing_price/data/SMU11479009091000001SA.csv')\n",
    "df['FED_EM'] = FedEm['SMU11479009091000001SA']"
   ]
  },
  {
   "cell_type": "code",
   "execution_count": 54,
   "metadata": {},
   "outputs": [],
   "source": [
    "FinEm = pd.read_csv('../../../mod4_project_DC_housing_price/data/SMU11479005552000001SA.csv')\n",
    "df['FIN_EM'] = FinEm['SMU11479005552000001SA']"
   ]
  },
  {
   "cell_type": "code",
   "execution_count": 55,
   "metadata": {},
   "outputs": [],
   "source": [
    "HosEm = pd.read_csv('../../../mod4_project_DC_housing_price/data/WASH911LEIH.csv')\n",
    "df['HOS_EM'] = HosEm['WASH911LEIH']"
   ]
  },
  {
   "cell_type": "code",
   "execution_count": 56,
   "metadata": {},
   "outputs": [],
   "source": [
    "DC_Per = pd.read_csv('../../../mod4_project_DC_housing_price/data/DCBPPRIV.csv')\n",
    "df['DC_PER'] = DC_Per['DCBPPRIV']"
   ]
  },
  {
   "cell_type": "code",
   "execution_count": 57,
   "metadata": {},
   "outputs": [],
   "source": [
    "DMV_Per = pd.read_csv('../../../mod4_project_DC_housing_price/data/WASH911BPPRIVSA.csv')\n",
    "df['DMV_PER'] = DMV_Per['WASH911BPPRIVSA']"
   ]
  },
  {
   "cell_type": "code",
   "execution_count": 58,
   "metadata": {},
   "outputs": [],
   "source": [
    "DMV_Per1 = pd.read_csv('../../../mod4_project_DC_housing_price/data/WASH911BP1FHSA.csv')\n",
    "df['DMV_PER_1'] = DMV_Per1['WASH911BP1FHSA']"
   ]
  },
  {
   "cell_type": "code",
   "execution_count": 59,
   "metadata": {},
   "outputs": [],
   "source": [
    "df_temp = df[1:118]"
   ]
  },
  {
   "cell_type": "code",
   "execution_count": 60,
   "metadata": {},
   "outputs": [],
   "source": [
    "df_temp.to_csv(\"../../data/macro.csv\", index = False)"
   ]
  },
  {
   "cell_type": "code",
   "execution_count": 61,
   "metadata": {},
   "outputs": [],
   "source": [
    "df = pd.read_csv(\"../../data/macro.csv\")"
   ]
  },
  {
   "cell_type": "code",
   "execution_count": 62,
   "metadata": {},
   "outputs": [
    {
     "data": {
      "text/html": [
       "<div>\n",
       "<style scoped>\n",
       "    .dataframe tbody tr th:only-of-type {\n",
       "        vertical-align: middle;\n",
       "    }\n",
       "\n",
       "    .dataframe tbody tr th {\n",
       "        vertical-align: top;\n",
       "    }\n",
       "\n",
       "    .dataframe thead th {\n",
       "        text-align: right;\n",
       "    }\n",
       "</style>\n",
       "<table border=\"1\" class=\"dataframe\">\n",
       "  <thead>\n",
       "    <tr style=\"text-align: right;\">\n",
       "      <th></th>\n",
       "      <th>DATE</th>\n",
       "      <th>WDXRSA</th>\n",
       "      <th>US_UR</th>\n",
       "      <th>DMV_UR</th>\n",
       "      <th>DC_UR</th>\n",
       "      <th>FED_EM</th>\n",
       "      <th>FIN_EM</th>\n",
       "      <th>HOS_EM</th>\n",
       "      <th>DC_PER</th>\n",
       "      <th>DMV_PER</th>\n",
       "      <th>DMV_PER_1</th>\n",
       "    </tr>\n",
       "  </thead>\n",
       "  <tbody>\n",
       "    <tr>\n",
       "      <td>0</td>\n",
       "      <td>2010-02-01</td>\n",
       "      <td>180.451677</td>\n",
       "      <td>9.8</td>\n",
       "      <td>6.9</td>\n",
       "      <td>9.7</td>\n",
       "      <td>373.444291</td>\n",
       "      <td>96.646081</td>\n",
       "      <td>254.227222</td>\n",
       "      <td>60.0</td>\n",
       "      <td>1447.651302</td>\n",
       "      <td>821.847524</td>\n",
       "    </tr>\n",
       "    <tr>\n",
       "      <td>1</td>\n",
       "      <td>2010-03-01</td>\n",
       "      <td>179.886193</td>\n",
       "      <td>9.9</td>\n",
       "      <td>6.7</td>\n",
       "      <td>9.5</td>\n",
       "      <td>373.911092</td>\n",
       "      <td>96.916094</td>\n",
       "      <td>258.398701</td>\n",
       "      <td>27.0</td>\n",
       "      <td>1194.393163</td>\n",
       "      <td>732.449501</td>\n",
       "    </tr>\n",
       "    <tr>\n",
       "      <td>2</td>\n",
       "      <td>2010-04-01</td>\n",
       "      <td>181.982940</td>\n",
       "      <td>9.9</td>\n",
       "      <td>6.1</td>\n",
       "      <td>9.4</td>\n",
       "      <td>375.438325</td>\n",
       "      <td>96.709393</td>\n",
       "      <td>262.204679</td>\n",
       "      <td>166.0</td>\n",
       "      <td>1240.543680</td>\n",
       "      <td>792.792527</td>\n",
       "    </tr>\n",
       "    <tr>\n",
       "      <td>3</td>\n",
       "      <td>2010-05-01</td>\n",
       "      <td>182.983985</td>\n",
       "      <td>9.6</td>\n",
       "      <td>6.3</td>\n",
       "      <td>9.3</td>\n",
       "      <td>384.432209</td>\n",
       "      <td>96.954287</td>\n",
       "      <td>259.995404</td>\n",
       "      <td>15.0</td>\n",
       "      <td>1068.784557</td>\n",
       "      <td>646.662505</td>\n",
       "    </tr>\n",
       "    <tr>\n",
       "      <td>4</td>\n",
       "      <td>2010-06-01</td>\n",
       "      <td>183.939947</td>\n",
       "      <td>9.4</td>\n",
       "      <td>6.5</td>\n",
       "      <td>9.3</td>\n",
       "      <td>383.827749</td>\n",
       "      <td>97.197389</td>\n",
       "      <td>261.043229</td>\n",
       "      <td>8.0</td>\n",
       "      <td>1167.185307</td>\n",
       "      <td>768.646617</td>\n",
       "    </tr>\n",
       "    <tr>\n",
       "      <td>...</td>\n",
       "      <td>...</td>\n",
       "      <td>...</td>\n",
       "      <td>...</td>\n",
       "      <td>...</td>\n",
       "      <td>...</td>\n",
       "      <td>...</td>\n",
       "      <td>...</td>\n",
       "      <td>...</td>\n",
       "      <td>...</td>\n",
       "      <td>...</td>\n",
       "      <td>...</td>\n",
       "    </tr>\n",
       "    <tr>\n",
       "      <td>112</td>\n",
       "      <td>2019-06-01</td>\n",
       "      <td>232.112524</td>\n",
       "      <td>3.7</td>\n",
       "      <td>3.4</td>\n",
       "      <td>5.6</td>\n",
       "      <td>363.193444</td>\n",
       "      <td>103.253989</td>\n",
       "      <td>347.332822</td>\n",
       "      <td>389.0</td>\n",
       "      <td>2036.740005</td>\n",
       "      <td>1178.709018</td>\n",
       "    </tr>\n",
       "    <tr>\n",
       "      <td>113</td>\n",
       "      <td>2019-07-01</td>\n",
       "      <td>232.032415</td>\n",
       "      <td>3.7</td>\n",
       "      <td>3.3</td>\n",
       "      <td>5.6</td>\n",
       "      <td>363.391729</td>\n",
       "      <td>102.106994</td>\n",
       "      <td>347.357406</td>\n",
       "      <td>455.0</td>\n",
       "      <td>2056.199932</td>\n",
       "      <td>1138.927749</td>\n",
       "    </tr>\n",
       "    <tr>\n",
       "      <td>114</td>\n",
       "      <td>2019-08-01</td>\n",
       "      <td>232.650097</td>\n",
       "      <td>3.7</td>\n",
       "      <td>3.2</td>\n",
       "      <td>5.5</td>\n",
       "      <td>364.342848</td>\n",
       "      <td>102.964051</td>\n",
       "      <td>350.489560</td>\n",
       "      <td>437.0</td>\n",
       "      <td>2000.434352</td>\n",
       "      <td>1247.029523</td>\n",
       "    </tr>\n",
       "    <tr>\n",
       "      <td>115</td>\n",
       "      <td>2019-09-01</td>\n",
       "      <td>233.380305</td>\n",
       "      <td>3.5</td>\n",
       "      <td>2.9</td>\n",
       "      <td>5.4</td>\n",
       "      <td>363.321499</td>\n",
       "      <td>102.012584</td>\n",
       "      <td>352.846320</td>\n",
       "      <td>329.0</td>\n",
       "      <td>2083.453745</td>\n",
       "      <td>1429.372493</td>\n",
       "    </tr>\n",
       "    <tr>\n",
       "      <td>116</td>\n",
       "      <td>2019-10-01</td>\n",
       "      <td>234.644022</td>\n",
       "      <td>3.6</td>\n",
       "      <td>2.8</td>\n",
       "      <td>5.4</td>\n",
       "      <td>363.261555</td>\n",
       "      <td>103.049750</td>\n",
       "      <td>355.226651</td>\n",
       "      <td>1395.0</td>\n",
       "      <td>2651.639321</td>\n",
       "      <td>1163.982510</td>\n",
       "    </tr>\n",
       "  </tbody>\n",
       "</table>\n",
       "<p>117 rows × 11 columns</p>\n",
       "</div>"
      ],
      "text/plain": [
       "           DATE      WDXRSA  US_UR  DMV_UR  DC_UR      FED_EM      FIN_EM  \\\n",
       "0    2010-02-01  180.451677    9.8     6.9    9.7  373.444291   96.646081   \n",
       "1    2010-03-01  179.886193    9.9     6.7    9.5  373.911092   96.916094   \n",
       "2    2010-04-01  181.982940    9.9     6.1    9.4  375.438325   96.709393   \n",
       "3    2010-05-01  182.983985    9.6     6.3    9.3  384.432209   96.954287   \n",
       "4    2010-06-01  183.939947    9.4     6.5    9.3  383.827749   97.197389   \n",
       "..          ...         ...    ...     ...    ...         ...         ...   \n",
       "112  2019-06-01  232.112524    3.7     3.4    5.6  363.193444  103.253989   \n",
       "113  2019-07-01  232.032415    3.7     3.3    5.6  363.391729  102.106994   \n",
       "114  2019-08-01  232.650097    3.7     3.2    5.5  364.342848  102.964051   \n",
       "115  2019-09-01  233.380305    3.5     2.9    5.4  363.321499  102.012584   \n",
       "116  2019-10-01  234.644022    3.6     2.8    5.4  363.261555  103.049750   \n",
       "\n",
       "         HOS_EM  DC_PER      DMV_PER    DMV_PER_1  \n",
       "0    254.227222    60.0  1447.651302   821.847524  \n",
       "1    258.398701    27.0  1194.393163   732.449501  \n",
       "2    262.204679   166.0  1240.543680   792.792527  \n",
       "3    259.995404    15.0  1068.784557   646.662505  \n",
       "4    261.043229     8.0  1167.185307   768.646617  \n",
       "..          ...     ...          ...          ...  \n",
       "112  347.332822   389.0  2036.740005  1178.709018  \n",
       "113  347.357406   455.0  2056.199932  1138.927749  \n",
       "114  350.489560   437.0  2000.434352  1247.029523  \n",
       "115  352.846320   329.0  2083.453745  1429.372493  \n",
       "116  355.226651  1395.0  2651.639321  1163.982510  \n",
       "\n",
       "[117 rows x 11 columns]"
      ]
     },
     "execution_count": 62,
     "metadata": {},
     "output_type": "execute_result"
    }
   ],
   "source": [
    "df"
   ]
  },
  {
   "cell_type": "code",
   "execution_count": null,
   "metadata": {},
   "outputs": [],
   "source": []
  }
 ],
 "metadata": {
  "kernelspec": {
   "display_name": "Python 3",
   "language": "python",
   "name": "python3"
  },
  "language_info": {
   "codemirror_mode": {
    "name": "ipython",
    "version": 3
   },
   "file_extension": ".py",
   "mimetype": "text/x-python",
   "name": "python",
   "nbconvert_exporter": "python",
   "pygments_lexer": "ipython3",
   "version": "3.6.9"
  }
 },
 "nbformat": 4,
 "nbformat_minor": 2
}
