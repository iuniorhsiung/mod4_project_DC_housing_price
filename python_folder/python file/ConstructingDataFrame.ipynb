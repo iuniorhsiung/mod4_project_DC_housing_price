{
 "cells": [
  {
   "cell_type": "code",
   "execution_count": 18,
   "metadata": {},
   "outputs": [],
   "source": [
    "import numpy as np\n",
    "import matplotlib.pyplot as plt\n",
    "import pandas as pd\n",
    "import seaborn as sns\n",
    "from scipy import stats"
   ]
  },
  {
   "cell_type": "code",
   "execution_count": 19,
   "metadata": {},
   "outputs": [],
   "source": [
    "snp = pd.read_csv('../../../mod4_project_DC_housing_price/data/WDXRSA.csv')\n",
    "df = snp"
   ]
  },
  {
   "cell_type": "code",
   "execution_count": 20,
   "metadata": {},
   "outputs": [],
   "source": [
    "UR = pd.read_csv('../../../mod4_project_DC_housing_price/data/UNRATE.csv')\n",
    "df['US_UR'] = UR['UNRATE']"
   ]
  },
  {
   "cell_type": "code",
   "execution_count": 21,
   "metadata": {},
   "outputs": [],
   "source": [
    "DMV_UR = pd.read_csv('../../../mod4_project_DC_housing_price/data/WASH911URN.csv')\n",
    "df['DMV_UR'] = DMV_UR['WASH911URN']"
   ]
  },
  {
   "cell_type": "code",
   "execution_count": 22,
   "metadata": {},
   "outputs": [],
   "source": [
    "DC_UR = pd.read_csv('../../../mod4_project_DC_housing_price/data/DCUR.csv')\n",
    "df['DC_UR'] = DC_UR['DCUR']"
   ]
  },
  {
   "cell_type": "code",
   "execution_count": 23,
   "metadata": {},
   "outputs": [],
   "source": [
    "FedEm = pd.read_csv('../../../mod4_project_DC_housing_price/data/SMU11479009091000001SA.csv')\n",
    "df['FED_EM'] = FedEm['SMU11479009091000001SA']"
   ]
  },
  {
   "cell_type": "code",
   "execution_count": 24,
   "metadata": {},
   "outputs": [],
   "source": [
    "FinEm = pd.read_csv('../../../mod4_project_DC_housing_price/data/SMU11479005552000001SA.csv')\n",
    "df['FIN_EM'] = FinEm['SMU11479005552000001SA']"
   ]
  },
  {
   "cell_type": "code",
   "execution_count": 25,
   "metadata": {},
   "outputs": [],
   "source": [
    "HosEm = pd.read_csv('../../../mod4_project_DC_housing_price/data/WASH911LEIH.csv')\n",
    "df['HOS_EM'] = HosEm['WASH911LEIH']"
   ]
  },
  {
   "cell_type": "code",
   "execution_count": 26,
   "metadata": {},
   "outputs": [],
   "source": [
    "DC_Per = pd.read_csv('../../../mod4_project_DC_housing_price/data/DCBPPRIV.csv')\n",
    "df['DC_PER'] = DC_Per['DCBPPRIV']"
   ]
  },
  {
   "cell_type": "code",
   "execution_count": 27,
   "metadata": {},
   "outputs": [],
   "source": [
    "DMV_Per = pd.read_csv('../../../mod4_project_DC_housing_price/data/WASH911BPPRIVSA.csv')\n",
    "df['DMV_PER'] = DMV_Per['WASH911BPPRIVSA']"
   ]
  },
  {
   "cell_type": "code",
   "execution_count": 28,
   "metadata": {},
   "outputs": [],
   "source": [
    "DMV_Per1 = pd.read_csv('../../../mod4_project_DC_housing_price/data/WASH911BP1FHSA.csv')\n",
    "df['DMV_PER_1'] = DMV_Per1['WASH911BP1FHSA']"
   ]
  },
  {
   "cell_type": "code",
   "execution_count": 29,
   "metadata": {},
   "outputs": [],
   "source": [
    "df.to_csv(\"../../data/macro.csv\", index = False)"
   ]
  },
  {
   "cell_type": "code",
   "execution_count": null,
   "metadata": {},
   "outputs": [],
   "source": []
  }
 ],
 "metadata": {
  "kernelspec": {
   "display_name": "Python 3",
   "language": "python",
   "name": "python3"
  },
  "language_info": {
   "codemirror_mode": {
    "name": "ipython",
    "version": 3
   },
   "file_extension": ".py",
   "mimetype": "text/x-python",
   "name": "python",
   "nbconvert_exporter": "python",
   "pygments_lexer": "ipython3",
   "version": "3.6.9"
  }
 },
 "nbformat": 4,
 "nbformat_minor": 2
}
