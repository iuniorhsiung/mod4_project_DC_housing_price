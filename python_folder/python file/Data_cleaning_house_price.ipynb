{
 "cells": [
  {
   "cell_type": "markdown",
   "metadata": {},
   "source": [
    "#### Data Clean for housing statistics for all condos in DC\n",
    "\n",
    "- Data is pre-cleaned as floats for all variable with a time variable\n",
    "- Data is saved in \"data\" folder as house_preclean_data.csv"
   ]
  },
  {
   "cell_type": "code",
   "execution_count": 1,
   "metadata": {},
   "outputs": [],
   "source": [
    "#Import libraries\n",
    "import pandas as pd\n",
    "import numpy as np\n",
    "import matplotlib.pyplot as plt\n",
    "import seaborn as sns\n",
    "%matplotlib inline"
   ]
  },
  {
   "cell_type": "code",
   "execution_count": 2,
   "metadata": {},
   "outputs": [],
   "source": [
    "# Create a time variable\n",
    "time_frame = pd.date_range('2012-02-01','2019-10-01', \n",
    "              freq='MS').strftime(\"%Y-%b\").tolist()\n",
    "\n",
    "df_temp = pd.DataFrame(time_frame, columns = ['Time'])\n",
    "df = pd.read_csv(\"../../data/data_crosstab_condo.csv\",  encoding='utf-16', sep='\\t' )"
   ]
  },
  {
   "cell_type": "code",
   "execution_count": 3,
   "metadata": {},
   "outputs": [],
   "source": [
    "# reformat all housing variables from string to float\n",
    "\n",
    "df_temp[\"Median Sale Price\"] = df[\"Median Sale Price\"].str.replace(\",\", \"\").str.replace(\"$\", \"\").str.replace(\"K\",\"000\").astype(float)\n",
    "df_temp[\"Median Sale Price MoM\"] = df[\"Median Sale Price MoM \"].str.replace(\",\", \"\").str.replace(\"$\", \"\").str.replace(\"%\", \"\").str.replace(\"K\",\"000\").astype(float)\n",
    "df_temp[\"Median Sale Price YoY\"] = df[\"Median Sale Price YoY \"].str.replace(\",\", \"\").str.replace(\"$\", \"\").str.replace(\"%\", \"\").str.replace(\"K\",\"000\").astype(float)\n",
    "\n",
    "df_temp[\"Homes Sold\"] = df[\"Homes Sold\"].str.replace(\",\", \"\").str.replace(\"$\", \"\").str.replace(\"K\",\"000\").astype(float)\n",
    "df_temp[\"Homes Sold MoM\"] = df[\"Homes Sold MoM \"].str.replace(\",\", \"\").str.replace(\"$\", \"\").str.replace(\"%\", \"\").str.replace(\"K\",\"000\").astype(float)\n",
    "df_temp[\"Homes Sold YoY\"] = df[\"Homes Sold YoY \"].str.replace(\",\", \"\").str.replace(\"$\", \"\").str.replace(\"%\", \"\").str.replace(\"K\",\"000\").astype(float)\n",
    "\n",
    "df_temp[\"New Listings\"] = df[\"New Listings\"].str.replace(\",\", \"\").str.replace(\"$\", \"\").str.replace(\"K\",\"000\").astype(float)\n",
    "df_temp[\"New Listings MoM\"] = df[\"New Listings MoM \"].str.replace(\",\", \"\").str.replace(\"$\", \"\").str.replace(\"%\", \"\").str.replace(\"K\",\"000\").astype(float)\n",
    "df_temp[\"New Listings YoY\"] = df[\"New Listings YoY \"].str.replace(\",\", \"\").str.replace(\"$\", \"\").str.replace(\"%\", \"\").str.replace(\"K\",\"000\").astype(float)\n",
    "\n",
    "df_temp[\"Inventory\"] = df[\"Inventory\"].str.replace(\",\", \"\").str.replace(\"$\", \"\").str.replace(\"K\",\"000\").astype(float)\n",
    "df_temp[\"Inventory MoM\"] = df[\"Inventory MoM \"].str.replace(\",\", \"\").str.replace(\"$\", \"\").str.replace(\"%\", \"\").str.replace(\"K\",\"000\").astype(float)\n",
    "df_temp[\"Inventory YoY\"] = df[\" Inventory YoY \"].str.replace(\",\", \"\").str.replace(\"$\", \"\").str.replace(\"%\", \"\").str.replace(\"K\",\"000\").astype(float)\n",
    "\n",
    "df_temp[\"Days on Market\"] = df[\"Days on Market\"]\n",
    "df_temp[\"Days on Market MoM\"] = df[\"Days on Market MoM\"]\n",
    "df_temp[\"Days on Market YoY\"] = df[\"Days on Market YoY\"]\n",
    "\n",
    "\n",
    "#df_temp[\"Days on Market\"] = df[\"Days on Market\"].str.replace(\",\", \"\").str.replace(\"$\", \"\").str.replace(\"K\",\"000\").astype(float)\n",
    "#df_temp[\"Days on Market MoM\"] = df[\"Days on Market MoM\"].str.replace(\",\", \"\").str.replace(\"$\", \"\").str.replace(\"%\", \"\").str.replace(\"K\",\"000\").astype(float)\n",
    "#df_temp[\"Days on Market YoY\"] = df[\"Days on Market YoY\"].str.replace(\",\", \"\").str.replace(\"$\", \"\").str.replace(\"%\", \"\").str.replace(\"K\",\"000\").astype(float)\n",
    "\n",
    "\n",
    "\n",
    "df_temp[\"Average Sale To List%\"] = df[\"Average Sale To List\"].str.replace(\",\", \"\").str.replace(\"%\", \"\").str.replace(\"K\",\"000\").astype(float)\n",
    "df_temp[\"Average Sale To List MoM\"] = df[\"Average Sale To List MoM \"].str.replace(\",\", \"\").str.replace(\"%\", \"\").str.replace(\"K\",\"000\").astype(float)\n",
    "df_temp[\"Average Sale To List YoY\"] = df[\"Average Sale To List YoY \"].str.replace(\",\", \"\").str.replace(\"$\", \"\").str.replace(\"%\", \"\").str.replace(\"K\",\"000\").astype(float)\n",
    "\n",
    "\n"
   ]
  },
  {
   "cell_type": "code",
   "execution_count": 4,
   "metadata": {},
   "outputs": [],
   "source": [
    "df_temp.to_csv(\"../../data/house_preclean_data.csv\", index = False)"
   ]
  },
  {
   "cell_type": "markdown",
   "metadata": {},
   "source": [
    "####  Set up transformed variables for housing statistics"
   ]
  },
  {
   "cell_type": "code",
   "execution_count": 5,
   "metadata": {},
   "outputs": [],
   "source": [
    "df = pd.read_csv(\"../../data/house_preclean_data.csv\")"
   ]
  },
  {
   "cell_type": "code",
   "execution_count": null,
   "metadata": {},
   "outputs": [],
   "source": [
    "df.head()"
   ]
  },
  {
   "cell_type": "code",
   "execution_count": null,
   "metadata": {},
   "outputs": [],
   "source": []
  }
 ],
 "metadata": {
  "kernelspec": {
   "display_name": "Python 3",
   "language": "python",
   "name": "python3"
  },
  "language_info": {
   "codemirror_mode": {
    "name": "ipython",
    "version": 3
   },
   "file_extension": ".py",
   "mimetype": "text/x-python",
   "name": "python",
   "nbconvert_exporter": "python",
   "pygments_lexer": "ipython3",
   "version": "3.6.9"
  }
 },
 "nbformat": 4,
 "nbformat_minor": 2
}
