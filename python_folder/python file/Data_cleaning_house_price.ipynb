{
 "cells": [
  {
   "cell_type": "markdown",
   "metadata": {},
   "source": [
    "#### Data Clean for housing statistics for all condos in DC\n",
    "\n",
    "- Data is pre-cleaned as floats for all variable with a time variable\n",
    "- Data is saved in \"data\" folder as house_preclean_data.csv"
   ]
  },
  {
   "cell_type": "code",
   "execution_count": 1,
   "metadata": {},
   "outputs": [],
   "source": [
    "#Import libraries\n",
    "import pandas as pd\n",
    "import numpy as np\n",
    "import matplotlib.pyplot as plt\n",
    "import seaborn as sns\n",
    "from statsmodels.graphics.tsaplots import plot_acf, plot_pacf\n",
    "from statsmodels.tsa.stattools import acf, pacf\n",
    "%matplotlib inline"
   ]
  },
  {
   "cell_type": "code",
   "execution_count": null,
   "metadata": {},
   "outputs": [],
   "source": [
    "# Create a time variable\n",
    "time_frame = pd.date_range('2010-01-01','2019-11-01', \n",
    "              freq='MS').strftime(\"%Y-%b\").tolist()\n",
    "\n",
    "df_temp = pd.DataFrame(time_frame, columns = ['Time'])\n",
    "df = pd.read_csv(\"../../data/data_crosstab_condo.csv\",  encoding='utf-16', sep='\\t' )"
   ]
  },
  {
   "cell_type": "code",
   "execution_count": null,
   "metadata": {},
   "outputs": [],
   "source": [
    "# reformat all housing variables from string to float\n",
    "\n",
    "df_temp[\"Median Sale Price\"] = df[\"Median Sale Price\"].str.replace(\",\", \"\").str.replace(\"$\", \"\").str.replace(\"K\",\"000\").astype(float)\n",
    "df_temp[\"Median Sale Price MoM\"] = df[\"Median Sale Price MoM \"].str.replace(\",\", \"\").str.replace(\"$\", \"\").str.replace(\"%\", \"\").str.replace(\"K\",\"000\").astype(float)\n",
    "#df_temp[\"Median Sale Price YoY\"] = df[\"Median Sale Price YoY \"].str.replace(\",\", \"\").str.replace(\"$\", \"\").str.replace(\"%\", \"\").str.replace(\"K\",\"000\").astype(float)\n",
    "\n",
    "df_temp[\"Homes Sold\"] = df[\"Homes Sold\"].str.replace(\",\", \"\").str.replace(\"$\", \"\").str.replace(\"K\",\"000\").astype(float)\n",
    "df_temp[\"Homes Sold MoM\"] = df[\"Homes Sold MoM \"].str.replace(\",\", \"\").str.replace(\"$\", \"\").str.replace(\"%\", \"\").str.replace(\"K\",\"000\").astype(float)\n",
    "#df_temp[\"Homes Sold YoY\"] = df[\"Homes Sold YoY \"].str.replace(\",\", \"\").str.replace(\"$\", \"\").str.replace(\"%\", \"\").str.replace(\"K\",\"000\").astype(float)\n",
    "\n",
    "df_temp[\"New Listings\"] = df[\"New Listings\"].str.replace(\",\", \"\").str.replace(\"$\", \"\").str.replace(\"K\",\"000\").astype(float)\n",
    "df_temp[\"New Listings MoM\"] = df[\"New Listings MoM \"].str.replace(\",\", \"\").str.replace(\"$\", \"\").str.replace(\"%\", \"\").str.replace(\"K\",\"000\").astype(float)\n",
    "#df_temp[\"New Listings YoY\"] = df[\"New Listings YoY \"].str.replace(\",\", \"\").str.replace(\"$\", \"\").str.replace(\"%\", \"\").str.replace(\"K\",\"000\").astype(float)\n",
    "\n",
    "df_temp[\"Inventory\"] = df[\"Inventory\"].str.replace(\",\", \"\").str.replace(\"$\", \"\").str.replace(\"K\",\"000\").astype(float)\n",
    "df_temp[\"Inventory MoM\"] = df[\"Inventory MoM \"].str.replace(\",\", \"\").str.replace(\"$\", \"\").str.replace(\"%\", \"\").str.replace(\"K\",\"000\").astype(float)\n",
    "#df_temp[\"Inventory YoY\"] = df[\" Inventory YoY \"].str.replace(\",\", \"\").str.replace(\"$\", \"\").str.replace(\"%\", \"\").str.replace(\"K\",\"000\").astype(float)\n",
    "\n",
    "df_temp[\"Days on Market\"] = df[\"Days on Market\"]\n",
    "df_temp[\"Days on Market MoM\"] = df[\"Days on Market MoM\"]\n",
    "#df_temp[\"Days on Market YoY\"] = df[\"Days on Market YoY\"]\n",
    "\n",
    "\n",
    "\n",
    "df_temp[\"Average Sale To List%\"] = df[\"Average Sale To List\"].str.replace(\",\", \"\").str.replace(\"%\", \"\").str.replace(\"K\",\"000\").astype(float)\n",
    "df_temp[\"Average Sale To List MoM\"] = df[\"Average Sale To List MoM \"].str.replace(\",\", \"\").str.replace(\"%\", \"\").str.replace(\"K\",\"000\").astype(float)\n",
    "#df_temp[\"Average Sale To List YoY\"] = df[\"Average Sale To List YoY \"].str.replace(\",\", \"\").str.replace(\"$\", \"\").str.replace(\"%\", \"\").str.replace(\"K\",\"000\").astype(float)\n"
   ]
  },
  {
   "cell_type": "code",
   "execution_count": null,
   "metadata": {},
   "outputs": [],
   "source": [
    "df = []\n",
    "df = df_temp[1:119]\n",
    "df.to_csv(\"../../data/house_preclean_data.csv\", index = False)"
   ]
  },
  {
   "cell_type": "code",
   "execution_count": null,
   "metadata": {},
   "outputs": [],
   "source": [
    "df"
   ]
  },
  {
   "cell_type": "code",
   "execution_count": null,
   "metadata": {},
   "outputs": [],
   "source": [
    "df.info()"
   ]
  },
  {
   "cell_type": "code",
   "execution_count": null,
   "metadata": {},
   "outputs": [],
   "source": [
    "df.describe()"
   ]
  },
  {
   "cell_type": "markdown",
   "metadata": {},
   "source": [
    "####  Set up transformed variables for housing statistics"
   ]
  },
  {
   "cell_type": "code",
   "execution_count": 7,
   "metadata": {},
   "outputs": [],
   "source": [
    "df = pd.read_csv(\"../../data/house_preclean_data.csv\")\n",
    "df1 = pd.read_csv(\"../../data/macro.csv\")"
   ]
  },
  {
   "cell_type": "code",
   "execution_count": 8,
   "metadata": {},
   "outputs": [
    {
     "data": {
      "text/plain": [
       "(118, 13)"
      ]
     },
     "execution_count": 8,
     "metadata": {},
     "output_type": "execute_result"
    }
   ],
   "source": [
    "df.shape"
   ]
  },
  {
   "cell_type": "code",
   "execution_count": 12,
   "metadata": {},
   "outputs": [
    {
     "data": {
      "text/plain": [
       "(117, 11)"
      ]
     },
     "execution_count": 12,
     "metadata": {},
     "output_type": "execute_result"
    }
   ],
   "source": [
    "df1.shape"
   ]
  },
  {
   "cell_type": "code",
   "execution_count": null,
   "metadata": {},
   "outputs": [],
   "source": [
    "df = pd.concat([df, df1], axis=1, sort=False)\n",
    "df.to_csv(\"../../data/full_data.csv\", index = False)"
   ]
  },
  {
   "cell_type": "code",
   "execution_count": 2,
   "metadata": {},
   "outputs": [],
   "source": [
    "df = pd.read_csv(\"../../data/full_data.csv\")"
   ]
  },
  {
   "cell_type": "code",
   "execution_count": null,
   "metadata": {},
   "outputs": [],
   "source": [
    "ax1 = sns.lineplot(x=\"Time\", y=\"Median Sale Price\", color = 'r', data = df)\n",
    "sns.set(rc={'figure.figsize':(40,8)})\n",
    "plt.xticks(range(0, 130, 10))\n",
    "plt.show()"
   ]
  },
  {
   "cell_type": "code",
   "execution_count": null,
   "metadata": {},
   "outputs": [],
   "source": [
    "plt.subplot(2, 1, 1)\n",
    "sns.lineplot(x = \"Time\", y = \"Median Sale Price\", data = df, color = 'r')\n",
    "plt.xticks(range(0, 130, 10))\n",
    "plt.subplot(2, 1, 2)\n",
    "sns.lineplot(x = \"Time\", y = \"Median Sale Price MoM\", data = df)\n",
    "plt.xticks(range(0, 130, 10))\n",
    "\n",
    "sns.set(rc={'figure.figsize':(40,8)})\n",
    "plt.show()"
   ]
  },
  {
   "cell_type": "code",
   "execution_count": null,
   "metadata": {},
   "outputs": [],
   "source": [
    "plt.subplot(3, 1, 1)\n",
    "sns.lineplot(x = \"Time\", y = \"Median Sale Price\", data = df, color = 'r')\n",
    "plt.xticks(range(0, 130, 10))\n",
    "plt.subplot(3, 1, 2)\n",
    "sns.lineplot(x = \"Time\", y = \"New Listings\", data = df)\n",
    "plt.xticks(range(0, 130, 10))\n",
    "plt.subplot(3, 1, 3)\n",
    "sns.lineplot(x = \"Time\", y = \"New Listings MoM\", data = df)\n",
    "plt.xticks(range(0, 130, 10))\n",
    "\n",
    "\n",
    "sns.set(rc={'figure.figsize':(40,8)})\n",
    "plt.show()"
   ]
  },
  {
   "cell_type": "code",
   "execution_count": null,
   "metadata": {},
   "outputs": [],
   "source": [
    "plt.subplot(3, 1, 1)\n",
    "sns.lineplot(x = \"Time\", y = \"Median Sale Price\", data = df, color = 'r')\n",
    "plt.xticks(range(0, 130, 10))\n",
    "plt.subplot(3, 1, 2)\n",
    "sns.lineplot(x = \"Time\", y = \"Homes Sold\", data = df)\n",
    "plt.xticks(range(0, 130, 10))\n",
    "plt.subplot(3, 1, 3)\n",
    "sns.lineplot(x = \"Time\", y = \"Homes Sold MoM\", data = df)\n",
    "plt.xticks(range(0, 130, 10))\n",
    "\n",
    "\n",
    "sns.set(rc={'figure.figsize':(40,8)})\n",
    "plt.show()"
   ]
  },
  {
   "cell_type": "code",
   "execution_count": null,
   "metadata": {},
   "outputs": [],
   "source": [
    "plt.subplot(3, 1, 1)\n",
    "sns.lineplot(x = \"Time\", y = \"Median Sale Price\", data = df, color = 'r')\n",
    "plt.xticks(range(0, 130, 10))\n",
    "plt.subplot(3, 1, 2)\n",
    "sns.lineplot(x = \"Time\", y = \"Inventory\", data = df)\n",
    "plt.xticks(range(0, 130, 10))\n",
    "plt.subplot(3, 1, 3)\n",
    "sns.lineplot(x = \"Time\", y = \"Inventory MoM\", data = df)\n",
    "plt.xticks(range(0, 130, 10))\n",
    "\n",
    "\n",
    "sns.set(rc={'figure.figsize':(40,8)})\n",
    "plt.show()"
   ]
  },
  {
   "cell_type": "code",
   "execution_count": null,
   "metadata": {},
   "outputs": [],
   "source": [
    "plt.subplot(3, 1, 1)\n",
    "sns.lineplot(x = \"Time\", y = \"Median Sale Price\", data = df, color = 'r')\n",
    "plt.xticks(range(0, 130, 10))\n",
    "plt.subplot(3, 1, 2)\n",
    "sns.lineplot(x = \"Time\", y = \"Days on Market\", data = df)\n",
    "plt.xticks(range(0, 130, 10))\n",
    "plt.subplot(3, 1, 3)\n",
    "sns.lineplot(x = \"Time\", y = \"Days on Market MoM\", data = df)\n",
    "plt.xticks(range(0, 130, 10))\n",
    "\n",
    "\n",
    "sns.set(rc={'figure.figsize':(40,8)})\n",
    "plt.show()"
   ]
  },
  {
   "cell_type": "code",
   "execution_count": null,
   "metadata": {},
   "outputs": [],
   "source": [
    "plt.subplot(3, 1, 1)\n",
    "sns.lineplot(x = \"Time\", y = \"Median Sale Price\", data = df, color = 'r')\n",
    "plt.xticks(range(0, 130, 10))\n",
    "plt.subplot(3, 1, 2)\n",
    "sns.lineplot(x = \"Time\", y = \"Average Sale To List%\", data = df)\n",
    "plt.xticks(range(0, 130, 10))\n",
    "plt.subplot(3, 1, 3)\n",
    "sns.lineplot(x = \"Time\", y = \"Average Sale To List MoM\", data = df)\n",
    "plt.xticks(range(0, 130, 10))\n",
    "\n",
    "\n",
    "sns.set(rc={'figure.figsize':(40,8)})\n",
    "plt.show()"
   ]
  },
  {
   "cell_type": "code",
   "execution_count": null,
   "metadata": {},
   "outputs": [],
   "source": [
    "df.info()"
   ]
  },
  {
   "cell_type": "code",
   "execution_count": 4,
   "metadata": {},
   "outputs": [
    {
     "data": {
      "image/png": "[encoded data removed]",
      "text/plain": [
       "<Figure size 432x288 with 1 Axes>"
      ]
     },
     "metadata": {
      "needs_background": "light"
     },
     "output_type": "display_data"
    },
    {
     "data": {
      "image/png": "[encoded data removed]",
      "text/plain": [
       "<Figure size 432x288 with 1 Axes>"
      ]
     },
     "metadata": {
      "needs_background": "light"
     },
     "output_type": "display_data"
    }
   ],
   "source": [
    "#plt.subplot(2, 1, 1)\n",
    "plot_acf(df['Median Sale Price'], lags=36)\n",
    "\n",
    "plot_pacf(df['Median Sale Price'], lags=36)\n",
    "\n",
    "plt.show()"
   ]
  },
  {
   "cell_type": "code",
   "execution_count": 5,
   "metadata": {},
   "outputs": [
    {
     "data": {
      "image/png": "[encoded data removed]",
      "text/plain": [
       "<Figure size 432x288 with 1 Axes>"
      ]
     },
     "metadata": {
      "needs_background": "light"
     },
     "output_type": "display_data"
    },
    {
     "data": {
      "image/png": "[encoded data removed]",
      "text/plain": [
       "<Figure size 432x288 with 1 Axes>"
      ]
     },
     "metadata": {
      "needs_background": "light"
     },
     "output_type": "display_data"
    }
   ],
   "source": [
    "#plt.subplot(2, 1, 1)\n",
    "plot_acf(df[\"Median Sale Price MoM\"], lags=36)\n",
    "plot_pacf(df[\"Median Sale Price MoM\"], lags=36)\n",
    "\n",
    "plt.show()"
   ]
  },
  {
   "cell_type": "code",
   "execution_count": 6,
   "metadata": {},
   "outputs": [
    {
     "data": {
      "text/html": [
       "<div>\n",
       "<style scoped>\n",
       "    .dataframe tbody tr th:only-of-type {\n",
       "        vertical-align: middle;\n",
       "    }\n",
       "\n",
       "    .dataframe tbody tr th {\n",
       "        vertical-align: top;\n",
       "    }\n",
       "\n",
       "    .dataframe thead th {\n",
       "        text-align: right;\n",
       "    }\n",
       "</style>\n",
       "<table border=\"1\" class=\"dataframe\">\n",
       "  <thead>\n",
       "    <tr style=\"text-align: right;\">\n",
       "      <th></th>\n",
       "      <th>Time</th>\n",
       "      <th>Median Sale Price</th>\n",
       "      <th>Median Sale Price MoM</th>\n",
       "      <th>Homes Sold</th>\n",
       "      <th>Homes Sold MoM</th>\n",
       "      <th>New Listings</th>\n",
       "      <th>New Listings MoM</th>\n",
       "      <th>Inventory</th>\n",
       "      <th>Inventory MoM</th>\n",
       "      <th>Days on Market</th>\n",
       "      <th>...</th>\n",
       "      <th>WDXRSA</th>\n",
       "      <th>US_UR</th>\n",
       "      <th>DMV_UR</th>\n",
       "      <th>DC_UR</th>\n",
       "      <th>FED_EM</th>\n",
       "      <th>FIN_EM</th>\n",
       "      <th>HOS_EM</th>\n",
       "      <th>DC_PER</th>\n",
       "      <th>DMV_PER</th>\n",
       "      <th>DMV_PER_1</th>\n",
       "    </tr>\n",
       "  </thead>\n",
       "  <tbody>\n",
       "    <tr>\n",
       "      <td>0</td>\n",
       "      <td>2010-Feb</td>\n",
       "      <td>250000.0</td>\n",
       "      <td>11.1</td>\n",
       "      <td>521.0</td>\n",
       "      <td>-3.9</td>\n",
       "      <td>1085.0</td>\n",
       "      <td>-2.3</td>\n",
       "      <td>3346.0</td>\n",
       "      <td>6.5</td>\n",
       "      <td>51</td>\n",
       "      <td>...</td>\n",
       "      <td>180.451677</td>\n",
       "      <td>9.8</td>\n",
       "      <td>6.9</td>\n",
       "      <td>9.7</td>\n",
       "      <td>373.444291</td>\n",
       "      <td>96.646081</td>\n",
       "      <td>254.227222</td>\n",
       "      <td>60.0</td>\n",
       "      <td>1447.651302</td>\n",
       "      <td>821.847524</td>\n",
       "    </tr>\n",
       "    <tr>\n",
       "      <td>1</td>\n",
       "      <td>2010-Mar</td>\n",
       "      <td>237000.0</td>\n",
       "      <td>-5.2</td>\n",
       "      <td>786.0</td>\n",
       "      <td>50.9</td>\n",
       "      <td>1681.0</td>\n",
       "      <td>54.9</td>\n",
       "      <td>3670.0</td>\n",
       "      <td>9.7</td>\n",
       "      <td>42</td>\n",
       "      <td>...</td>\n",
       "      <td>179.886193</td>\n",
       "      <td>9.9</td>\n",
       "      <td>6.7</td>\n",
       "      <td>9.5</td>\n",
       "      <td>373.911092</td>\n",
       "      <td>96.916094</td>\n",
       "      <td>258.398701</td>\n",
       "      <td>27.0</td>\n",
       "      <td>1194.393163</td>\n",
       "      <td>732.449501</td>\n",
       "    </tr>\n",
       "    <tr>\n",
       "      <td>2</td>\n",
       "      <td>2010-Apr</td>\n",
       "      <td>260000.0</td>\n",
       "      <td>9.7</td>\n",
       "      <td>909.0</td>\n",
       "      <td>15.6</td>\n",
       "      <td>1719.0</td>\n",
       "      <td>2.3</td>\n",
       "      <td>3892.0</td>\n",
       "      <td>6.0</td>\n",
       "      <td>28</td>\n",
       "      <td>...</td>\n",
       "      <td>181.982940</td>\n",
       "      <td>9.9</td>\n",
       "      <td>6.1</td>\n",
       "      <td>9.4</td>\n",
       "      <td>375.438325</td>\n",
       "      <td>96.709393</td>\n",
       "      <td>262.204679</td>\n",
       "      <td>166.0</td>\n",
       "      <td>1240.543680</td>\n",
       "      <td>792.792527</td>\n",
       "    </tr>\n",
       "    <tr>\n",
       "      <td>3</td>\n",
       "      <td>2010-May</td>\n",
       "      <td>250000.0</td>\n",
       "      <td>-3.8</td>\n",
       "      <td>988.0</td>\n",
       "      <td>8.7</td>\n",
       "      <td>1029.0</td>\n",
       "      <td>-40.1</td>\n",
       "      <td>3874.0</td>\n",
       "      <td>-0.5</td>\n",
       "      <td>30</td>\n",
       "      <td>...</td>\n",
       "      <td>182.983985</td>\n",
       "      <td>9.6</td>\n",
       "      <td>6.3</td>\n",
       "      <td>9.3</td>\n",
       "      <td>384.432209</td>\n",
       "      <td>96.954287</td>\n",
       "      <td>259.995404</td>\n",
       "      <td>15.0</td>\n",
       "      <td>1068.784557</td>\n",
       "      <td>646.662505</td>\n",
       "    </tr>\n",
       "    <tr>\n",
       "      <td>4</td>\n",
       "      <td>2010-Jun</td>\n",
       "      <td>240000.0</td>\n",
       "      <td>-4.0</td>\n",
       "      <td>962.0</td>\n",
       "      <td>-2.6</td>\n",
       "      <td>1260.0</td>\n",
       "      <td>22.4</td>\n",
       "      <td>3907.0</td>\n",
       "      <td>0.9</td>\n",
       "      <td>35</td>\n",
       "      <td>...</td>\n",
       "      <td>183.939947</td>\n",
       "      <td>9.4</td>\n",
       "      <td>6.5</td>\n",
       "      <td>9.3</td>\n",
       "      <td>383.827749</td>\n",
       "      <td>97.197389</td>\n",
       "      <td>261.043229</td>\n",
       "      <td>8.0</td>\n",
       "      <td>1167.185307</td>\n",
       "      <td>768.646617</td>\n",
       "    </tr>\n",
       "  </tbody>\n",
       "</table>\n",
       "<p>5 rows × 24 columns</p>\n",
       "</div>"
      ],
      "text/plain": [
       "       Time  Median Sale Price  Median Sale Price MoM  Homes Sold  \\\n",
       "0  2010-Feb           250000.0                   11.1       521.0   \n",
       "1  2010-Mar           237000.0                   -5.2       786.0   \n",
       "2  2010-Apr           260000.0                    9.7       909.0   \n",
       "3  2010-May           250000.0                   -3.8       988.0   \n",
       "4  2010-Jun           240000.0                   -4.0       962.0   \n",
       "\n",
       "   Homes Sold MoM  New Listings  New Listings MoM  Inventory  Inventory MoM  \\\n",
       "0            -3.9        1085.0              -2.3     3346.0            6.5   \n",
       "1            50.9        1681.0              54.9     3670.0            9.7   \n",
       "2            15.6        1719.0               2.3     3892.0            6.0   \n",
       "3             8.7        1029.0             -40.1     3874.0           -0.5   \n",
       "4            -2.6        1260.0              22.4     3907.0            0.9   \n",
       "\n",
       "   Days on Market  ...      WDXRSA  US_UR  DMV_UR DC_UR      FED_EM  \\\n",
       "0              51  ...  180.451677    9.8     6.9   9.7  373.444291   \n",
       "1              42  ...  179.886193    9.9     6.7   9.5  373.911092   \n",
       "2              28  ...  181.982940    9.9     6.1   9.4  375.438325   \n",
       "3              30  ...  182.983985    9.6     6.3   9.3  384.432209   \n",
       "4              35  ...  183.939947    9.4     6.5   9.3  383.827749   \n",
       "\n",
       "      FIN_EM      HOS_EM  DC_PER      DMV_PER   DMV_PER_1  \n",
       "0  96.646081  254.227222    60.0  1447.651302  821.847524  \n",
       "1  96.916094  258.398701    27.0  1194.393163  732.449501  \n",
       "2  96.709393  262.204679   166.0  1240.543680  792.792527  \n",
       "3  96.954287  259.995404    15.0  1068.784557  646.662505  \n",
       "4  97.197389  261.043229     8.0  1167.185307  768.646617  \n",
       "\n",
       "[5 rows x 24 columns]"
      ]
     },
     "execution_count": 6,
     "metadata": {},
     "output_type": "execute_result"
    }
   ],
   "source": [
    "df.head()"
   ]
  },
  {
   "cell_type": "code",
   "execution_count": null,
   "metadata": {},
   "outputs": [],
   "source": []
  }
 ],
 "metadata": {
  "kernelspec": {
   "display_name": "Python 3",
   "language": "python",
   "name": "python3"
  },
  "language_info": {
   "codemirror_mode": {
    "name": "ipython",
    "version": 3
   },
   "file_extension": ".py",
   "mimetype": "text/x-python",
   "name": "python",
   "nbconvert_exporter": "python",
   "pygments_lexer": "ipython3",
   "version": "3.6.9"
  }
 },
 "nbformat": 4,
 "nbformat_minor": 2
}
